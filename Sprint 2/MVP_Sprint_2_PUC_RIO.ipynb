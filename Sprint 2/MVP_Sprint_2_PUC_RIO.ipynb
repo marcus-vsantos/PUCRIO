{
  "cells": [
    {
      "cell_type": "markdown",
      "metadata": {
        "id": "view-in-github",
        "colab_type": "text"
      },
      "source": [
        "<a href=\"https://colab.research.google.com/github/marcus-vsantos/PUCRIO/blob/main/Sprint%202/MVP_Sprint_2_PUC_RIO.ipynb\" target=\"_parent\"><img src=\"https://colab.research.google.com/assets/colab-badge.svg\" alt=\"Open In Colab\"/></a>"
      ]
    },
    {
      "cell_type": "markdown",
      "metadata": {
        "id": "jJaIn0IgKLaY"
      },
      "source": [
        "# MVP - Sprint 2 - Machine Learning e Analytics\n",
        "\n",
        "---\n",
        "\n",
        "## Parte A - Machine learning\n",
        "---\n",
        "\n",
        "### Definição do problema\n",
        "\n",
        "O primeiro problema que será abordado ao longo deste trabalho se trata da performance de estudantes universitários. O principal objetivo é o estabelecimento do relacionamento entre a performance de estudantes universitários e de atributos dos estudantes julgados importantes para a performance através de um modelo de regressão.\n",
        "\n",
        "Os dados são de 10.000 estudantes, onde cada linha representa um estudante e são apresentadas os atributos e a variável de interesse, que é um índice numérico de performance que varia de 10 a 100. O índice de performance é uma espécie de nota global de aproveitamento e, segundo o autor, foi arredondado para o número inteiro mais próximo.\n",
        "\n",
        "Também cabe ressaltar que, ainda de acordo com o autor, os dados são sintéticos e não revelam um real comportamento observado. Trata-se apenas de uma ilustração da realidade para aplicação de métodos de *machine learning*. Por fim, este dataset foi extraído do site *Kaggle* (disponível em: https://www.kaggle.com/datasets/nikhil7280/student-performance-multiple-linear-regression).\n",
        "\n",
        "A seguir, a carga dos dados será feita:"
      ]
    },
    {
      "cell_type": "code",
      "execution_count": null,
      "metadata": {
        "id": "nFBx36p6pbCS"
      },
      "outputs": [],
      "source": [
        "import warnings\n",
        "warnings.filterwarnings(\"ignore\")\n",
        "\n",
        "import pandas as pd\n",
        "import numpy as np"
      ]
    },
    {
      "cell_type": "code",
      "execution_count": null,
      "metadata": {
        "id": "jSscXv-SKLaa",
        "outputId": "9ef36f04-3bd1-44d0-98a4-2049bbbcb900"
      },
      "outputs": [
        {
          "data": {
            "text/html": [
              "<div>\n",
              "<style scoped>\n",
              "    .dataframe tbody tr th:only-of-type {\n",
              "        vertical-align: middle;\n",
              "    }\n",
              "\n",
              "    .dataframe tbody tr th {\n",
              "        vertical-align: top;\n",
              "    }\n",
              "\n",
              "    .dataframe thead th {\n",
              "        text-align: right;\n",
              "    }\n",
              "</style>\n",
              "<table border=\"1\" class=\"dataframe\">\n",
              "  <thead>\n",
              "    <tr style=\"text-align: right;\">\n",
              "      <th></th>\n",
              "      <th>Hours Studied</th>\n",
              "      <th>Previous Scores</th>\n",
              "      <th>Extracurricular Activities</th>\n",
              "      <th>Sleep Hours</th>\n",
              "      <th>Sample Question Papers Practiced</th>\n",
              "      <th>Performance Index</th>\n",
              "    </tr>\n",
              "  </thead>\n",
              "  <tbody>\n",
              "    <tr>\n",
              "      <th>0</th>\n",
              "      <td>7</td>\n",
              "      <td>99</td>\n",
              "      <td>Yes</td>\n",
              "      <td>9</td>\n",
              "      <td>1</td>\n",
              "      <td>91.0</td>\n",
              "    </tr>\n",
              "    <tr>\n",
              "      <th>1</th>\n",
              "      <td>4</td>\n",
              "      <td>82</td>\n",
              "      <td>No</td>\n",
              "      <td>4</td>\n",
              "      <td>2</td>\n",
              "      <td>65.0</td>\n",
              "    </tr>\n",
              "    <tr>\n",
              "      <th>2</th>\n",
              "      <td>8</td>\n",
              "      <td>51</td>\n",
              "      <td>Yes</td>\n",
              "      <td>7</td>\n",
              "      <td>2</td>\n",
              "      <td>45.0</td>\n",
              "    </tr>\n",
              "    <tr>\n",
              "      <th>3</th>\n",
              "      <td>5</td>\n",
              "      <td>52</td>\n",
              "      <td>Yes</td>\n",
              "      <td>5</td>\n",
              "      <td>2</td>\n",
              "      <td>36.0</td>\n",
              "    </tr>\n",
              "    <tr>\n",
              "      <th>4</th>\n",
              "      <td>7</td>\n",
              "      <td>75</td>\n",
              "      <td>No</td>\n",
              "      <td>8</td>\n",
              "      <td>5</td>\n",
              "      <td>66.0</td>\n",
              "    </tr>\n",
              "  </tbody>\n",
              "</table>\n",
              "</div>"
            ],
            "text/plain": [
              "   Hours Studied  Previous Scores Extracurricular Activities  Sleep Hours  \\\n",
              "0              7               99                        Yes            9   \n",
              "1              4               82                         No            4   \n",
              "2              8               51                        Yes            7   \n",
              "3              5               52                        Yes            5   \n",
              "4              7               75                         No            8   \n",
              "\n",
              "   Sample Question Papers Practiced  Performance Index  \n",
              "0                                 1               91.0  \n",
              "1                                 2               65.0  \n",
              "2                                 2               45.0  \n",
              "3                                 2               36.0  \n",
              "4                                 5               66.0  "
            ]
          },
          "metadata": {},
          "output_type": "display_data"
        }
      ],
      "source": [
        "url = 'https://raw.githubusercontent.com/marcus-vsantos/PUCRIO/main/Sprint%202/Student_Performance.csv'\n",
        "\n",
        "raw_students = pd.read_csv(url)\n",
        "\n",
        "display(raw_students.head(n = 5))"
      ]
    },
    {
      "cell_type": "markdown",
      "metadata": {
        "id": "c-Pyi1bFKLab"
      },
      "source": [
        "Como mostrado a seguir, de fato os dados são de 10.000 estudantes e são dispostos 6 atributos, sendo um o atributo target, que é o índice de performance."
      ]
    },
    {
      "cell_type": "code",
      "execution_count": null,
      "metadata": {
        "id": "SxBZVFK4KLac",
        "outputId": "23a0d144-4d51-4460-a104-89067df35b24"
      },
      "outputs": [
        {
          "name": "stdout",
          "output_type": "stream",
          "text": [
            "(10000, 6)\n"
          ]
        }
      ],
      "source": [
        "print(raw_students.shape)"
      ]
    },
    {
      "cell_type": "markdown",
      "metadata": {
        "id": "k8gB7fIfKLac"
      },
      "source": [
        "Os seis atributos do dataset são apresentados brevemente abaixo:\n",
        "    \n",
        "- **Hours Studied:** O número total de horas de estudo de cada estudante\n",
        "- **Previous Scores:** O score do estudante em provas anteriores.\n",
        "- **Extracurricular Activities:** Indica se o estudante participou de atividades extracurriculares ou não (Yes/No).\n",
        "- **Sleep Hours:** A média diária das horas de sono do estudante.\n",
        "- **Sample Question Papers Practiced:** O número de exames praticados na preparação do estudante.\n",
        "- **Performance Index:** O número inteiro do indíce de performance de cada estudante, variando de 10 a 100.\n",
        "    \n",
        "Como premissas para o problema, tenho que o número de horas estudadas, o score anterior e o número de questões praticadas seriam as mais importantes para a predição da performance do estudante, pois estes estão relacionados com o empenho e a boa preparação do estudante.\n",
        "\n",
        "Pelo método *info*, percebe-se que não há valores nulos em nenhuma coluna do dataset"
      ]
    },
    {
      "cell_type": "code",
      "execution_count": null,
      "metadata": {
        "id": "dfAQNR5EKLac",
        "outputId": "f097d009-bbfe-4c10-f1e6-717dd05f7bcd"
      },
      "outputs": [
        {
          "name": "stdout",
          "output_type": "stream",
          "text": [
            "<class 'pandas.core.frame.DataFrame'>\n",
            "RangeIndex: 10000 entries, 0 to 9999\n",
            "Data columns (total 6 columns):\n",
            " #   Column                            Non-Null Count  Dtype  \n",
            "---  ------                            --------------  -----  \n",
            " 0   Hours Studied                     10000 non-null  int64  \n",
            " 1   Previous Scores                   10000 non-null  int64  \n",
            " 2   Extracurricular Activities        10000 non-null  object \n",
            " 3   Sleep Hours                       10000 non-null  int64  \n",
            " 4   Sample Question Papers Practiced  10000 non-null  int64  \n",
            " 5   Performance Index                 10000 non-null  float64\n",
            "dtypes: float64(1), int64(4), object(1)\n",
            "memory usage: 468.9+ KB\n",
            "None\n"
          ]
        }
      ],
      "source": [
        "print(raw_students.info())"
      ]
    },
    {
      "cell_type": "markdown",
      "metadata": {
        "id": "U6E-4r-QKLad"
      },
      "source": [
        "### Preparação dos dados\n",
        "\n",
        "Inicialmente, as ferramentas auxiliares pertinentes para esta etapa serão carregadas."
      ]
    },
    {
      "cell_type": "code",
      "execution_count": null,
      "metadata": {
        "id": "ympO5bYxKLad"
      },
      "outputs": [],
      "source": [
        "from sklearn.preprocessing import OneHotEncoder\n",
        "import matplotlib.pyplot as plt\n",
        "from sklearn.pipeline import Pipeline\n",
        "\n",
        "from sklearn.preprocessing import StandardScaler\n",
        "from sklearn.preprocessing import MinMaxScaler\n",
        "from sklearn.model_selection import train_test_split\n",
        "from sklearn.model_selection import KFold\n",
        "from sklearn.model_selection import cross_val_score\n",
        "\n",
        "from sklearn.feature_selection import SelectKBest\n",
        "from sklearn.feature_selection import f_regression"
      ]
    },
    {
      "cell_type": "markdown",
      "metadata": {
        "id": "zc26ouAOKLad"
      },
      "source": [
        "Também, ressalto que, conforme apresentado na seção de \"Definição do problema\", não há valores faltantes no conjunto de dados, não necessitando o preenchimento destes.\n",
        "\n",
        "#### Transformação da variável qualitativa\n",
        "\n",
        "A primeira etapa de preparação dos dados será a criação de uma variável de atividades extracurriculares quantitativa, pois no dataset esse atributo está como qualitativo. Essa é a única variável qualitativa do dataset.\n",
        "\n",
        "Essa variável é binária, indicando se houve ou não partipação em atividades extracurriculares, conforme apresentado a seguir."
      ]
    },
    {
      "cell_type": "code",
      "execution_count": null,
      "metadata": {
        "id": "yjLzezsoKLad",
        "outputId": "f37d0dcf-f06e-4d56-a83c-ca536af22bd5"
      },
      "outputs": [
        {
          "name": "stdout",
          "output_type": "stream",
          "text": [
            "No     5052\n",
            "Yes    4948\n",
            "Name: Extracurricular Activities, dtype: int64\n"
          ]
        }
      ],
      "source": [
        "print(raw_students[\"Extracurricular Activities\"].value_counts())"
      ]
    },
    {
      "cell_type": "markdown",
      "metadata": {
        "id": "RzDH2XFNKLae"
      },
      "source": [
        "Farei uma transformação dummy que codifica o \"Yes\" como 1 e o \"No\" como 0. Para facilitar a compreensão, essa nova coluna ocupará a mesma posição da coluna original."
      ]
    },
    {
      "cell_type": "code",
      "execution_count": null,
      "metadata": {
        "id": "-TDu-L2ZKLae",
        "outputId": "ce58b808-9012-49bd-841e-3a2084aec835"
      },
      "outputs": [
        {
          "data": {
            "text/html": [
              "<div>\n",
              "<style scoped>\n",
              "    .dataframe tbody tr th:only-of-type {\n",
              "        vertical-align: middle;\n",
              "    }\n",
              "\n",
              "    .dataframe tbody tr th {\n",
              "        vertical-align: top;\n",
              "    }\n",
              "\n",
              "    .dataframe thead th {\n",
              "        text-align: right;\n",
              "    }\n",
              "</style>\n",
              "<table border=\"1\" class=\"dataframe\">\n",
              "  <thead>\n",
              "    <tr style=\"text-align: right;\">\n",
              "      <th></th>\n",
              "      <th>Hours Studied</th>\n",
              "      <th>Previous Scores</th>\n",
              "      <th>Extracurricular Activities_Yes</th>\n",
              "      <th>Sleep Hours</th>\n",
              "      <th>Sample Question Papers Practiced</th>\n",
              "      <th>Performance Index</th>\n",
              "    </tr>\n",
              "  </thead>\n",
              "  <tbody>\n",
              "    <tr>\n",
              "      <th>0</th>\n",
              "      <td>7</td>\n",
              "      <td>99</td>\n",
              "      <td>1</td>\n",
              "      <td>9</td>\n",
              "      <td>1</td>\n",
              "      <td>91.0</td>\n",
              "    </tr>\n",
              "    <tr>\n",
              "      <th>1</th>\n",
              "      <td>4</td>\n",
              "      <td>82</td>\n",
              "      <td>0</td>\n",
              "      <td>4</td>\n",
              "      <td>2</td>\n",
              "      <td>65.0</td>\n",
              "    </tr>\n",
              "    <tr>\n",
              "      <th>2</th>\n",
              "      <td>8</td>\n",
              "      <td>51</td>\n",
              "      <td>1</td>\n",
              "      <td>7</td>\n",
              "      <td>2</td>\n",
              "      <td>45.0</td>\n",
              "    </tr>\n",
              "    <tr>\n",
              "      <th>3</th>\n",
              "      <td>5</td>\n",
              "      <td>52</td>\n",
              "      <td>1</td>\n",
              "      <td>5</td>\n",
              "      <td>2</td>\n",
              "      <td>36.0</td>\n",
              "    </tr>\n",
              "    <tr>\n",
              "      <th>4</th>\n",
              "      <td>7</td>\n",
              "      <td>75</td>\n",
              "      <td>0</td>\n",
              "      <td>8</td>\n",
              "      <td>5</td>\n",
              "      <td>66.0</td>\n",
              "    </tr>\n",
              "  </tbody>\n",
              "</table>\n",
              "</div>"
            ],
            "text/plain": [
              "   Hours Studied  Previous Scores  Extracurricular Activities_Yes  \\\n",
              "0              7               99                               1   \n",
              "1              4               82                               0   \n",
              "2              8               51                               1   \n",
              "3              5               52                               1   \n",
              "4              7               75                               0   \n",
              "\n",
              "   Sleep Hours  Sample Question Papers Practiced  Performance Index  \n",
              "0            9                                 1               91.0  \n",
              "1            4                                 2               65.0  \n",
              "2            7                                 2               45.0  \n",
              "3            5                                 2               36.0  \n",
              "4            8                                 5               66.0  "
            ]
          },
          "metadata": {},
          "output_type": "display_data"
        }
      ],
      "source": [
        "students = pd.get_dummies(raw_students, columns = [\"Extracurricular Activities\"],  drop_first = True)\n",
        "students = students[['Hours Studied', 'Previous Scores', 'Extracurricular Activities_Yes','Sleep Hours',\n",
        "       'Sample Question Papers Practiced', 'Performance Index']]\n",
        "\n",
        "display(students.head(n = 5))"
      ]
    },
    {
      "cell_type": "markdown",
      "metadata": {
        "id": "9ne8zLpuKLae"
      },
      "source": [
        "#### Dados de treino e teste e validação cruzada\n",
        "\n",
        "Será conduzida a etapa de separação entre os dados de treino e de teste, como indicado abaixo. Os dados de treino serão 70% do dataset, enquanto os de teste serão 30% da base, correspondendo a 7000 e 3000 instâncias, respectivamente.\n",
        "\n",
        "Também, será utilizada a validação cruzada para avaliação do modelo sob diferentes cenários, avaliando a performance geral. Para a validação cruzada, serão utilizadas 10 partições."
      ]
    },
    {
      "cell_type": "code",
      "execution_count": null,
      "metadata": {
        "id": "K8fNGlUsKLae",
        "outputId": "4656f398-2377-43d1-eebb-9890c440749c"
      },
      "outputs": [
        {
          "name": "stdout",
          "output_type": "stream",
          "text": [
            "Treino: (7000, 5) \n",
            "Teste: (3000, 5)\n"
          ]
        }
      ],
      "source": [
        "test_size = 0.30\n",
        "seed = 100\n",
        "np.random.seed(seed)\n",
        "\n",
        "array = students.values\n",
        "X_students = array[:,0:5]\n",
        "y_students = array[:,5]\n",
        "X_students_train, X_students_test, y_students_train, y_students_test = train_test_split(\n",
        "    X_students, y_students, test_size = test_size, random_state = seed)\n",
        "\n",
        "num_particoes = 10\n",
        "kfold = KFold(n_splits = num_particoes, shuffle = True, random_state = seed)\n",
        "\n",
        "print('Treino:', X_students_train.shape, '\\nTeste:', X_students_test.shape)"
      ]
    },
    {
      "cell_type": "markdown",
      "metadata": {
        "id": "zIVuUOjPKLae"
      },
      "source": [
        "Dentre as principais transformações que serão aplicadas, estão a normalização e a padronização. Essas transformações serão utilizadas para evitar, sobretudo, a influência de valores discrepantes.\n",
        "\n",
        "#### Feature selection\n",
        "\n",
        "Para a simplificação do problema, é apresentado a seguir a *feature selection* dos dados de treino.\n",
        "\n",
        "Será utilizado o método *SelectKBest*, onde serão escolhidos os três melhores atributos para a performance do estudante. Como se trata de um problema de regressão, o método *SelectKBest* utilizará como função de score a *f_regression*."
      ]
    },
    {
      "cell_type": "code",
      "execution_count": null,
      "metadata": {
        "id": "MqWkcTC5KLae",
        "outputId": "d3a15960-7eaa-4c15-9849-03734c06d749"
      },
      "outputs": [
        {
          "name": "stdout",
          "output_type": "stream",
          "text": [
            "\n",
            "Scores dos Atributos: [1.152e+03 3.612e+04 7.768e+00 1.221e+01 4.879e+00]\n",
            "\n",
            "Atributos Selecionados: ['Hours Studied' 'Previous Scores' 'Sleep Hours']\n"
          ]
        }
      ],
      "source": [
        "np.random.seed(seed)\n",
        "\n",
        "k_best = 3\n",
        "\n",
        "select_reg =  SelectKBest(k = k_best, score_func = f_regression)\n",
        "fit_students = select_reg.fit(X_students_train, y_students_train)\n",
        "features_students = fit_students.transform(X_students_train)\n",
        "\n",
        "np.set_printoptions(precision = 3)\n",
        "print(\"\\nScores dos Atributos:\", fit_students.scores_)\n",
        "print(\"\\nAtributos Selecionados:\", select_reg.get_feature_names_out(input_features = students.columns[0:5]))"
      ]
    },
    {
      "cell_type": "markdown",
      "metadata": {
        "id": "7F8fNW3LKLaf"
      },
      "source": [
        "Pelo método KBest, conclui-se que as principais variáveis para a performance do estudante são as horas de estudo, o score anterior e o número de horas. É importante ressaltar que apenas o número de exames praticados não se mostrou relevante dentre as três características em que havia a intuição.\n",
        "\n",
        "### Modelagem e treinamento\n",
        "\n",
        "As funções apropriadas serão carregadas para a posterior utilização nessa etapa."
      ]
    },
    {
      "cell_type": "code",
      "execution_count": null,
      "metadata": {
        "id": "lk18e_q1KLaf"
      },
      "outputs": [],
      "source": [
        "from sklearn.model_selection import GridSearchCV\n",
        "from sklearn.metrics import mean_squared_error, r2_score\n",
        "from sklearn.linear_model import LinearRegression\n",
        "from sklearn.linear_model import Ridge\n",
        "from sklearn.linear_model import Lasso\n",
        "from sklearn.neighbors import KNeighborsRegressor\n",
        "from sklearn.tree import DecisionTreeRegressor\n",
        "from sklearn.svm import SVR"
      ]
    },
    {
      "cell_type": "markdown",
      "metadata": {
        "id": "htOp5iBQKLaf"
      },
      "source": [
        "#### Algortimos utilizados\n",
        "\n",
        "Como se trata de um problema de regressão, serão considerados os seguintes modelos:\n",
        "\n",
        "- Regressão linear\n",
        "- Regressão linear Ridge\n",
        "- Regressão linear Lasso\n",
        "- Árvore de Regressão\n",
        "- KNN\n",
        "- SVM\n",
        "\n",
        "Para cada modelo, será utilizado os argumentos *defaults*, isto é, não haverá ajuste inicial de hiperparâmetros. Futuramente, serão analisados os melhores hiperparâmetros. Também, será discutida a utilização de modelos ensemble."
      ]
    },
    {
      "cell_type": "code",
      "execution_count": null,
      "metadata": {
        "id": "oJJ0mhiKKLaf",
        "outputId": "af7c22fc-6a60-4d9e-fa83-28898dbf3bfe"
      },
      "outputs": [
        {
          "name": "stdout",
          "output_type": "stream",
          "text": [
            "LR-orig: MSE 4.109 (0.178) - RMSE 2.027\n",
            "Ridge-orig: MSE 4.109 (0.178) - RMSE 2.027\n",
            "Lasso-orig: MSE 4.826 (0.277) - RMSE 2.197\n",
            "KNN-orig: MSE 6.231 (0.361) - RMSE 2.496\n",
            "Tree-orig: MSE 9.230 (0.500) - RMSE 3.038\n",
            "SVM-orig: MSE 5.897 (0.328) - RMSE 2.428\n",
            "LR-padr: MSE 4.109 (0.178) - RMSE 2.027\n",
            "Ridge-padr: MSE 4.109 (0.178) - RMSE 2.027\n",
            "Lasso-padr: MSE 7.185 (0.422) - RMSE 2.680\n",
            "KNN-padr: MSE 9.618 (0.400) - RMSE 3.101\n",
            "Tree-padr: MSE 9.125 (0.433) - RMSE 3.021\n",
            "SVM-padr: MSE 5.788 (0.433) - RMSE 2.406\n",
            "LR-norm: MSE 4.109 (0.178) - RMSE 2.027\n",
            "Ridge-norm: MSE 4.110 (0.180) - RMSE 2.027\n",
            "Lasso-norm: MSE 26.535 (1.044) - RMSE 5.151\n",
            "KNN-norm: MSE 10.297 (0.460) - RMSE 3.209\n",
            "Tree-norm: MSE 9.144 (0.445) - RMSE 3.024\n",
            "SVM-norm: MSE 6.458 (0.441) - RMSE 2.541\n"
          ]
        },
        {
          "data": {
            "image/png": "[encoded data removed]",
            "text/plain": [
              "<Figure size 1080x360 with 1 Axes>"
            ]
          },
          "metadata": {
            "needs_background": "light"
          },
          "output_type": "display_data"
        }
      ],
      "source": [
        "np.random.seed(seed)\n",
        "\n",
        "pipelines_students = []\n",
        "results_students = []\n",
        "names_students = []\n",
        "scoring = 'neg_mean_squared_error'\n",
        "\n",
        "linear = ('LR', LinearRegression())\n",
        "ridge = ('Ridge', Ridge())\n",
        "lasso = ('Lasso', Lasso())\n",
        "knn = ('KNN', KNeighborsRegressor())\n",
        "tree = ('CART', DecisionTreeRegressor())\n",
        "svm = ('SVM', SVR())\n",
        "\n",
        "standard_scaler = ('StandardScaler', StandardScaler())\n",
        "min_max_scaler = ('MinMaxScaler', MinMaxScaler())\n",
        "\n",
        "pipelines_students.append(('LR-orig', Pipeline([linear])))\n",
        "pipelines_students.append(('Ridge-orig', Pipeline([ridge])))\n",
        "pipelines_students.append(('Lasso-orig', Pipeline([lasso])))\n",
        "pipelines_students.append(('KNN-orig', Pipeline([knn])))\n",
        "pipelines_students.append(('Tree-orig', Pipeline([tree])))\n",
        "pipelines_students.append(('SVM-orig', Pipeline([svm])))\n",
        "\n",
        "pipelines_students.append(('LR-padr', Pipeline([standard_scaler, linear])))\n",
        "pipelines_students.append(('Ridge-padr', Pipeline([standard_scaler, ridge])))\n",
        "pipelines_students.append(('Lasso-padr', Pipeline([standard_scaler, lasso])))\n",
        "pipelines_students.append(('KNN-padr', Pipeline([standard_scaler, knn])))\n",
        "pipelines_students.append(('Tree-padr', Pipeline([standard_scaler, tree])))\n",
        "pipelines_students.append(('SVM-padr', Pipeline([standard_scaler, svm])))\n",
        "\n",
        "pipelines_students.append(('LR-norm', Pipeline([min_max_scaler, linear])))\n",
        "pipelines_students.append(('Ridge-norm', Pipeline([min_max_scaler, ridge])))\n",
        "pipelines_students.append(('Lasso-norm', Pipeline([min_max_scaler, lasso])))\n",
        "pipelines_students.append(('KNN-norm', Pipeline([min_max_scaler, knn])))\n",
        "pipelines_students.append(('Tree-norm', Pipeline([min_max_scaler, tree])))\n",
        "pipelines_students.append(('SVM-norm', Pipeline([min_max_scaler, svm])))\n",
        "\n",
        "for name, model in pipelines_students:\n",
        "    cv_results = cross_val_score(model, X_students_train, y_students_train, cv = kfold, scoring = scoring)\n",
        "    results_students.append(cv_results)\n",
        "    names_students.append(name)\n",
        "    msg = \"%s: MSE %0.3f (%0.3f) - RMSE %0.3f\" % (name, abs(cv_results.mean()), cv_results.std(), np.sqrt(abs(cv_results.mean())))\n",
        "    print(msg)\n",
        "\n",
        "fig = plt.figure(figsize=(15,5))\n",
        "fig.suptitle('Comparação do MSE dos Modelos')\n",
        "ax = fig.add_subplot(111)\n",
        "plt.boxplot(results_students)\n",
        "ax.set_xticklabels(names_students, rotation = 90)\n",
        "plt.show()"
      ]
    },
    {
      "cell_type": "markdown",
      "metadata": {
        "id": "hJBYqQORKLaf"
      },
      "source": [
        "Do resultado apresentado, percebe-se que o modelo de regressão linear foi o de melhor ajuste sob a métrica do MSE, uma vez que obteve os menores valores de erro.\n",
        "\n",
        "Além disso, a regressão linear tradicional e a com regularização Ridge obtiveram valores próximos, mesmo ao considerar a terceira casa decimal. Ainda, a normalização ou padronização não apresentaram efeitos práticos no ajuste, uma vez que o MSE se manteve o mesmo do que os dados originais mesmo considerando a terceira casa decimal.\n",
        "\n",
        "Sendo assim, essa primeira análise permite concluir o modelo de regressão linear com os dados originais como o de melhor performance.\n",
        "\n",
        "### Otimização de hiperparâmetros\n",
        "\n",
        "Os modelos acima ajustados utilizam os argumentos *default* de cada um dos modelos. Porém, sabe-se que a escolha de hiperparâmetros de modelos de *machine learning* influencia diretamente em seus resultados. Desta forma, torna-se necessário a escolha dos melhores parâmetros para o problema sob questão.\n",
        "\n",
        "Serão considerados dois modelos: *KNN* e *LinearRegression*. Em um primeiro momento, serão percorridos os parâmetros de número de vizinhos, o cálculo da distância e o algoritmo, conforme evidenciado abaixo."
      ]
    },
    {
      "cell_type": "code",
      "execution_count": null,
      "metadata": {
        "id": "KrvsXTfhKLaf",
        "outputId": "c7113bf2-7272-4cfa-9c5b-1b6b84fd6840"
      },
      "outputs": [
        {
          "name": "stdout",
          "output_type": "stream",
          "text": [
            "knn-orig - Melhor: -5.552 usando {'KNN__algorithm': 'brute', 'KNN__metric': 'euclidean', 'KNN__n_neighbors': 15}\n",
            "knn-padr - Melhor: -8.599 usando {'KNN__algorithm': 'brute', 'KNN__metric': 'euclidean', 'KNN__n_neighbors': 17}\n",
            "knn-norm - Melhor: -9.645 usando {'KNN__algorithm': 'brute', 'KNN__metric': 'euclidean', 'KNN__n_neighbors': 21}\n"
          ]
        }
      ],
      "source": [
        "###########################################\n",
        "############# KNN #########################\n",
        "###########################################\n",
        "\n",
        "np.random.seed(seed)\n",
        "\n",
        "pipelines_knn = []\n",
        "\n",
        "knn = ('KNN', KNeighborsRegressor())\n",
        "standard_scaler = ('StandardScaler', StandardScaler())\n",
        "min_max_scaler = ('MinMaxScaler', MinMaxScaler())\n",
        "\n",
        "pipelines_knn.append(('knn-orig', Pipeline(steps=[knn])))\n",
        "pipelines_knn.append(('knn-padr', Pipeline(steps=[standard_scaler, knn])))\n",
        "pipelines_knn.append(('knn-norm', Pipeline(steps=[min_max_scaler, knn])))\n",
        "\n",
        "param_grid = {\n",
        "    'KNN__n_neighbors': [1,3,5,7,9,11,13,15,17,19,21],\n",
        "    'KNN__metric': [\"euclidean\", \"manhattan\", \"minkowski\"],\n",
        "    'KNN__algorithm': ['auto', 'ball_tree', 'kd_tree', 'brute']\n",
        "}\n",
        "\n",
        "for name, model in pipelines_knn:\n",
        "    grid = GridSearchCV(estimator = model, param_grid = param_grid, scoring = scoring, cv = kfold)\n",
        "    grid.fit(X_students_train, y_students_train)\n",
        "    print(\"%s - Melhor: %0.3f usando %s\" % (name, grid.best_score_, grid.best_params_))"
      ]
    },
    {
      "cell_type": "markdown",
      "metadata": {
        "id": "6NJaU4v9KLag"
      },
      "source": [
        "Sob esta ótica, o método KNN com score \"brute\", distância euclideana e com 15 vizinhos foi o de melhor performance considerando a lista de parâmetros. Porém, ressalta-se que este ajuste não gerou melhor performance do que a etapa anterior sob a métrica do MSE.\n",
        "\n",
        "Agora, serão testados os melhores parâmetros para o modelo de regressão linear. Neste caso, será testado apenas se o intercepto do modelo de regressão é necessário ou não no ajuste."
      ]
    },
    {
      "cell_type": "code",
      "execution_count": null,
      "metadata": {
        "id": "8xjDzvSsKLag",
        "outputId": "d6fa6c85-687b-4ab6-8d71-a87f2be29bc7"
      },
      "outputs": [
        {
          "name": "stdout",
          "output_type": "stream",
          "text": [
            "lr-orig - Melhor: -4.109 usando {'LR__fit_intercept': True}\n",
            "lr-padr - Melhor: -4.109 usando {'LR__fit_intercept': True}\n",
            "lr-norm - Melhor: -4.109 usando {'LR__fit_intercept': True}\n"
          ]
        }
      ],
      "source": [
        "#########################################\n",
        "########### Regressão linear ############\n",
        "#########################################\n",
        "\n",
        "np.random.seed(seed)\n",
        "\n",
        "pipelines_lr = []\n",
        "\n",
        "# Definindo os componentes do pipeline\n",
        "lr = ('LR', LinearRegression())\n",
        "standard_scaler = ('StandardScaler', StandardScaler())\n",
        "min_max_scaler = ('MinMaxScaler', MinMaxScaler())\n",
        "\n",
        "pipelines_lr.append(('lr-orig', Pipeline(steps=[lr])))\n",
        "pipelines_lr.append(('lr-padr', Pipeline(steps=[standard_scaler, lr])))\n",
        "pipelines_lr.append(('lr-norm', Pipeline(steps=[min_max_scaler, lr])))\n",
        "\n",
        "param_grid = {\n",
        "    'LR__fit_intercept': [True, False]\n",
        "}\n",
        "\n",
        "for name, model in pipelines_lr:\n",
        "    grid = GridSearchCV(estimator = model, param_grid = param_grid, scoring = scoring, cv = kfold)\n",
        "    grid.fit(X_students_train, y_students_train)\n",
        "    print(\"%s - Melhor: %0.3f usando %s\" % (name, grid.best_score_, grid.best_params_))"
      ]
    },
    {
      "cell_type": "markdown",
      "metadata": {
        "id": "mbwCbkLSKLag"
      },
      "source": [
        "Sob esta ótica, o método *LinearRegression* resultou em estimativas parecidas com os modelos da etapa de *Algoritmos utilizados*, com MSE próximo dos demais. Além disso, a presença do intercepto é significativa para o modelo, pois em todos os sub-modelos, o de melhor performance apresentava o intercepto.\n",
        "\n",
        "### Modelos ensemble\n",
        "\n",
        "Entre as técnicas mais avançadas de modelos, serão utilizados alguns comitês de modelos. Esse cenário será avaliado para ver se as predições podem ser melhoradas."
      ]
    },
    {
      "cell_type": "code",
      "execution_count": null,
      "metadata": {
        "id": "ZFG8oGOWKLag",
        "outputId": "32bb0725-cdae-4535-8240-e66f6e3ce274"
      },
      "outputs": [
        {
          "name": "stdout",
          "output_type": "stream",
          "text": [
            "Bag-orig: nan (nan)\n",
            "Vot-orig: -4.469 (0.200)\n",
            "GB-orig: -4.374 (0.199)\n",
            "Ada-orig: -7.457 (0.578)\n",
            "RF-orig: -5.328 (0.252)\n",
            "ET-orig: -6.090 (0.292)\n",
            "Bag-padr: nan (nan)\n",
            "Vot-padr: -4.768 (0.260)\n",
            "GB-padr: -4.374 (0.199)\n",
            "Ada-padr: -7.434 (0.610)\n",
            "RF-padr: -5.317 (0.252)\n",
            "ET-padr: -6.101 (0.279)\n",
            "Bag-norm: nan (nan)\n",
            "Vot-norm: -4.897 (0.261)\n",
            "GB-norm: -4.374 (0.199)\n",
            "Ada-norm: -7.475 (0.567)\n",
            "RF-norm: -5.313 (0.240)\n",
            "ET-norm: -6.086 (0.278)\n"
          ]
        },
        {
          "data": {
            "image/png": "[encoded data removed]",
            "text/plain": [
              "<Figure size 1080x360 with 1 Axes>"
            ]
          },
          "metadata": {
            "needs_background": "light"
          },
          "output_type": "display_data"
        }
      ],
      "source": [
        "np.random.seed(seed)\n",
        "\n",
        "pipeline_ensemble = []\n",
        "results_ensemble = []\n",
        "names_ensemble = []\n",
        "\n",
        "standard_scaler = ('StandardScaler', StandardScaler())\n",
        "min_max_scaler = ('MinMaxScaler', MinMaxScaler())\n",
        "\n",
        "from sklearn.ensemble import BaggingRegressor\n",
        "from sklearn.ensemble import VotingRegressor\n",
        "from sklearn.ensemble import GradientBoostingRegressor\n",
        "from sklearn.ensemble import AdaBoostRegressor\n",
        "from sklearn.ensemble import RandomForestRegressor\n",
        "from sklearn.ensemble import ExtraTreesRegressor\n",
        "\n",
        "max_f = 4\n",
        "num_trees = 200\n",
        "\n",
        "bases = []\n",
        "bases.append(('tree', KNeighborsRegressor()))\n",
        "bases.append(('lr', LinearRegression()))\n",
        "bases.append(('svr', SVR()))\n",
        "bases.append(('gb_base', GradientBoostingRegressor(n_estimators = num_trees)))\n",
        "\n",
        "bagging = ('Bag', BaggingRegressor(base_estimator = bases, n_estimators = num_trees))\n",
        "voting = ('Voting', VotingRegressor(bases))\n",
        "gradient_boosting = ('GB', GradientBoostingRegressor(n_estimators = num_trees))\n",
        "adaboost = ('Ada', AdaBoostRegressor(n_estimators = num_trees))\n",
        "random_forest = ('RF', RandomForestRegressor(n_estimators = num_trees, max_features = max_f))\n",
        "extra_trees = ('ET', ExtraTreesRegressor(n_estimators = num_trees, max_features = max_f))\n",
        "\n",
        "standard_scaler = ('StandardScaler', StandardScaler())\n",
        "min_max_scaler = ('MinMaxScaler', MinMaxScaler())\n",
        "\n",
        "pipeline_ensemble.append(('Bag-orig', Pipeline([bagging])))\n",
        "pipeline_ensemble.append(('Vot-orig', Pipeline([voting])))\n",
        "pipeline_ensemble.append(('GB-orig', Pipeline([gradient_boosting])))\n",
        "pipeline_ensemble.append(('Ada-orig', Pipeline([adaboost])))\n",
        "pipeline_ensemble.append(('RF-orig', Pipeline([random_forest])))\n",
        "pipeline_ensemble.append(('ET-orig', Pipeline([extra_trees])))\n",
        "\n",
        "pipeline_ensemble.append(('Bag-padr', Pipeline([standard_scaler, bagging])))\n",
        "pipeline_ensemble.append(('Vot-padr', Pipeline([standard_scaler, voting])))\n",
        "pipeline_ensemble.append(('GB-padr', Pipeline([standard_scaler, gradient_boosting])))\n",
        "pipeline_ensemble.append(('Ada-padr', Pipeline([standard_scaler, adaboost])))\n",
        "pipeline_ensemble.append(('RF-padr', Pipeline([standard_scaler, random_forest])))\n",
        "pipeline_ensemble.append(('ET-padr', Pipeline([standard_scaler, extra_trees])))\n",
        "\n",
        "pipeline_ensemble.append(('Bag-norm', Pipeline([min_max_scaler, bagging])))\n",
        "pipeline_ensemble.append(('Vot-norm', Pipeline([min_max_scaler, voting])))\n",
        "pipeline_ensemble.append(('GB-norm', Pipeline([min_max_scaler, gradient_boosting])))\n",
        "pipeline_ensemble.append(('Ada-norm', Pipeline([min_max_scaler, adaboost])))\n",
        "pipeline_ensemble.append(('RF-norm', Pipeline([min_max_scaler, random_forest])))\n",
        "pipeline_ensemble.append(('ET-norm', Pipeline([min_max_scaler, extra_trees])))\n",
        "\n",
        "for name, model in pipeline_ensemble:\n",
        "    cv_results = cross_val_score(model, X_students_train, y_students_train, cv = kfold, scoring = scoring)\n",
        "    results_ensemble.append(cv_results)\n",
        "    names_ensemble.append(name)\n",
        "    msg = \"%s: %.3f (%.3f)\" % (name, cv_results.mean(), cv_results.std()) # formatando para 3 casas decimais\n",
        "    print(msg)\n",
        "\n",
        "# Boxplot de comparação dos modelos\n",
        "fig = plt.figure(figsize=(15,5))\n",
        "fig.suptitle('Comparação do MSE dos Modelos')\n",
        "ax = fig.add_subplot(111)\n",
        "plt.boxplot(results_ensemble)\n",
        "ax.set_xticklabels(names_ensemble, rotation = 90)\n",
        "plt.show()"
      ]
    },
    {
      "cell_type": "markdown",
      "metadata": {
        "id": "TrcNz0rQKLag"
      },
      "source": [
        "Portanto, percebe-se que os modelos de *GradientBoosting* apresentaram os melhores resultados nos três cenários (originais, padronizados e normalizados). Além disso, não houve diferença significativa no ajuste ao padronizar ou normalizar as variáveis, uma vez que a estimativa do MSE foi igual nesses três modelos considerando até a terceira casa decimal.\n",
        "\n",
        "Caso fosse necessário que um desses modelos *ensemble* fosse utilizado, é possível selecionar o modelo com os dados originais, facilitando a interpretabilidade do modelo final.\n",
        "\n",
        "### Avaliação dos resultados\n",
        "\n",
        "Conforme apresentado nas etapas anteriores, os modelos de melhor performance foram *LinearRegression*, *LinearRegression Ridge* e *LinearRegression Lasso*. Também, a transformação das variáveis não se revelou significativa, seja a normalização ou a padronização.\n",
        "\n",
        "Dada a semelhança entre os ajustes dos três modelos acima, será verificada a performance destes na base de teste, conforme apresentado a seguir, com as suas respectivas métricas de desempenho, sendo apresentados o MSE e o coeficiente de determinação R2."
      ]
    },
    {
      "cell_type": "code",
      "execution_count": null,
      "metadata": {
        "id": "2zETNTL-KLag",
        "outputId": "d54c02a7-89a9-44bd-fc05-c87973c9d9bf"
      },
      "outputs": [
        {
          "name": "stdout",
          "output_type": "stream",
          "text": [
            "LinearRegression: MSE: 4.2772 - R2: 0.9885\n",
            "Ridge: MSE: 4.2772 - R2: 0.9885\n",
            "Lasso: MSE: 5.0598 - R2: 0.9864\n"
          ]
        }
      ],
      "source": [
        "np.random.seed(seed)\n",
        "\n",
        "modelo_lr = LinearRegression()\n",
        "modelo_lr.fit(X_students_train, y_students_train)\n",
        "pred1 = modelo_lr.predict(X_students_test)\n",
        "\n",
        "modelo_ridge = Ridge()\n",
        "modelo_ridge.fit(X_students_train, y_students_train)\n",
        "pred2 = modelo_ridge.predict(X_students_test)\n",
        "\n",
        "modelo_lasso = Lasso()\n",
        "modelo_lasso.fit(X_students_train, y_students_train)\n",
        "pred3 = modelo_lasso.predict(X_students_test)\n",
        "\n",
        "print(\"LinearRegression: MSE: %.4f - R2: %.4f\"\n",
        "      % (mean_squared_error(y_students_test, pred1), r2_score(y_students_test, pred1)))\n",
        "\n",
        "print(\"Ridge: MSE: %.4f - R2: %.4f\"\n",
        "      % (mean_squared_error(y_students_test, pred2), r2_score(y_students_test, pred2)))\n",
        "\n",
        "print(\"Lasso: MSE: %.4f - R2: %.4f\"\n",
        "      % (mean_squared_error(y_students_test, pred3), r2_score(y_students_test, pred3)))"
      ]
    },
    {
      "cell_type": "markdown",
      "metadata": {
        "id": "PB9GUnlHKLag"
      },
      "source": [
        "Conforme apresentado acima, percebe-se que os modelo de *LinearRegression* e *LinearRegression Ridge* apresentaram os melhores desempenhos, tanto sob a ótica do MSE quanto da ótica do coeficiente de determinação R2. Além disso, ambos os modelos apresentaram métricas muito próximas, mesmo quando considerada a quarta casa decimal. O R2 esteve próximo de 1, indicando boa performance do modelo.\n",
        "\n",
        "O modelo considerado como final será o *LinearRegression*. Para este modelo, a figura a seguir apresenta o diagrama de dispersão da variável predita e observada na base de treino."
      ]
    },
    {
      "cell_type": "code",
      "execution_count": null,
      "metadata": {
        "id": "s52JQ-REKLah",
        "outputId": "438f21d1-082c-4408-b666-cfbb39412389"
      },
      "outputs": [
        {
          "data": {
            "image/png": "[encoded data removed]",
            "text/plain": [
              "<Figure size 432x288 with 1 Axes>"
            ]
          },
          "metadata": {
            "needs_background": "light"
          },
          "output_type": "display_data"
        }
      ],
      "source": [
        "plt.suptitle('Base de treino: valores observados e preditos')\n",
        "plt.plot(y_students_test, pred1, color='b')\n",
        "plt.show()"
      ]
    },
    {
      "cell_type": "markdown",
      "metadata": {
        "id": "SmMyvuZ1KLah"
      },
      "source": [
        "O diagrama de dispersão acima mostra que os valores observados e preditos foram próximos, pela sua familiaridade com a reta identidade **y = x**.\n",
        "\n",
        "As métricas acima mencionadas corroboram o bom ajuste do modelo *LinearRegression*, de modo que não foi identificado overfitting e houve boa aderência na base de teste.\n",
        "\n",
        "### Conclusão\n",
        "\n",
        "Com base no exposto, é possível perceber que o modelo de *LinearRegression* foi o de melhor performance, mesmo sob o ponto de vista de diferentes métricas apropriadas para a avaliação da performance de um problema supervisionado de regressão.\n",
        "\n",
        "Para este problema, ressalta-se que não foi necessária a transformação de variáveis, pois os modelos apresentaram resultados similares com e sem transformação.\n",
        "\n",
        "Por brevidade e por não se tratar de uma exaustiva análise, a otimização de hiperparâmetros considerou apenas dois modelos de regressão, a saber: *KNN* e *LinearRegression*. Sendo assim, tornou-se uma limitação dos resultados apresentados. Porém, o modelo final apresentou uma excelente performance, com quase 99% da variabilidade da variável target sendo explicada pelo modelo de regressão linear.\n",
        "\n",
        "Sendo assim, conclui-se que a variavél target de Índice de performance do aluno é explicada por uma combinação linear das covariáveis *Hours Studied*, *Previous Scores*, *Extracurricular Activities*, *Sleep Hours* e *Sample Questions paper practiced*, e que portanto estas são importantes para a predição de performances.\n",
        "\n",
        "---\n",
        "## Parte B - Deep Learning\n",
        "---\n",
        "\n",
        "### Definição do problema\n",
        "\n",
        "Na segunda etapa deste presente trabalho, será conduzida a análise de sentimentos (*Sentiment Analysis*) através do processamento de linguagem natural.\n",
        "\n",
        "Os dados são oriundos de um dataset do *Kaggle* (https://www.kaggle.com/datasets/sbhatti/financial-sentiment-analysis), que contém manchetes e comentários do ramo financeiro a respeito de assuntos diversos, como a expectativas de PIB e previsões de mercado. Além disso, o dataset é a combinação de informações oriundas de duas fontes principais: *FIQA* e *FinancialPhraseBank*.\n",
        "\n",
        "Para cada comentário, é identificado um sentimento atrelado a este, sendo classificado como positivo, negativo ou neutro. O autor do dataset não entrou em detalhes a respeito do méotodo utilizado para classificação do comentário. Também, o autor não especificou restrições e vieses do dataset.\n",
        "\n",
        "A seguir, serão feitas a importação de bibliotecas e a carga dos dados. Além disso, são exibidas as primeiras linhas do dataset."
      ]
    },
    {
      "cell_type": "code",
      "execution_count": null,
      "metadata": {
        "id": "oc1H5FVyKLah"
      },
      "outputs": [],
      "source": [
        "import warnings\n",
        "warnings.filterwarnings(\"ignore\")\n",
        "\n",
        "import pandas as pd\n",
        "import numpy as np\n",
        "import matplotlib.pyplot as plt\n",
        "\n",
        "import re\n",
        "from collections import defaultdict\n",
        "\n",
        "import spacy\n",
        "import nltk\n",
        "import gensim\n",
        "\n",
        "import logging\n",
        "logging.basicConfig(format=\"%(levelname)s - %(asctime)s: %(message)s\", datefmt= '%H:%M:%S', level=logging.INFO)\n",
        "\n",
        "from sklearn.preprocessing import LabelEncoder\n",
        "from sklearn.feature_extraction.text import CountVectorizer\n",
        "from sklearn.model_selection import train_test_split\n",
        "from sklearn.model_selection import StratifiedKFold\n",
        "from sklearn.model_selection import cross_val_score\n",
        "from sklearn.metrics import accuracy_score\n",
        "from sklearn.neighbors import KNeighborsClassifier\n",
        "from sklearn.tree import DecisionTreeClassifier\n",
        "from sklearn.ensemble import RandomForestClassifier\n",
        "from sklearn.ensemble import GradientBoostingClassifier"
      ]
    },
    {
      "cell_type": "code",
      "execution_count": null,
      "metadata": {
        "id": "wQxWak3oKLah",
        "outputId": "c5d31387-e6c6-4693-b0d0-78e8ee2de756"
      },
      "outputs": [
        {
          "data": {
            "text/html": [
              "<div>\n",
              "<style scoped>\n",
              "    .dataframe tbody tr th:only-of-type {\n",
              "        vertical-align: middle;\n",
              "    }\n",
              "\n",
              "    .dataframe tbody tr th {\n",
              "        vertical-align: top;\n",
              "    }\n",
              "\n",
              "    .dataframe thead th {\n",
              "        text-align: right;\n",
              "    }\n",
              "</style>\n",
              "<table border=\"1\" class=\"dataframe\">\n",
              "  <thead>\n",
              "    <tr style=\"text-align: right;\">\n",
              "      <th></th>\n",
              "      <th>Sentence</th>\n",
              "      <th>Sentiment</th>\n",
              "    </tr>\n",
              "  </thead>\n",
              "  <tbody>\n",
              "    <tr>\n",
              "      <th>0</th>\n",
              "      <td>The GeoSolutions technology will leverage Bene...</td>\n",
              "      <td>positive</td>\n",
              "    </tr>\n",
              "    <tr>\n",
              "      <th>1</th>\n",
              "      <td>$ESI on lows, down $1.50 to $2.50 BK a real po...</td>\n",
              "      <td>negative</td>\n",
              "    </tr>\n",
              "    <tr>\n",
              "      <th>2</th>\n",
              "      <td>For the last quarter of 2010 , Componenta 's n...</td>\n",
              "      <td>positive</td>\n",
              "    </tr>\n",
              "    <tr>\n",
              "      <th>3</th>\n",
              "      <td>According to the Finnish-Russian Chamber of Co...</td>\n",
              "      <td>neutral</td>\n",
              "    </tr>\n",
              "    <tr>\n",
              "      <th>4</th>\n",
              "      <td>The Swedish buyout firm has sold its remaining...</td>\n",
              "      <td>neutral</td>\n",
              "    </tr>\n",
              "  </tbody>\n",
              "</table>\n",
              "</div>"
            ],
            "text/plain": [
              "                                            Sentence Sentiment\n",
              "0  The GeoSolutions technology will leverage Bene...  positive\n",
              "1  $ESI on lows, down $1.50 to $2.50 BK a real po...  negative\n",
              "2  For the last quarter of 2010 , Componenta 's n...  positive\n",
              "3  According to the Finnish-Russian Chamber of Co...   neutral\n",
              "4  The Swedish buyout firm has sold its remaining...   neutral"
            ]
          },
          "metadata": {},
          "output_type": "display_data"
        }
      ],
      "source": [
        "url_financ = 'https://raw.githubusercontent.com/marcus-vsantos/PUCRIO/main/Sprint%202/Financial_Sentiment_Analysis.csv'\n",
        "financial_raw = pd.read_csv(url_financ)\n",
        "\n",
        "display(financial_raw.head(n = 5))"
      ]
    },
    {
      "cell_type": "markdown",
      "metadata": {
        "id": "fbXXMwlsKLah"
      },
      "source": [
        "#### Descrição do dataset\n",
        "\n",
        "O dataset contém apenas dois atributos de interesse, sendo descritas a seguir:\n",
        "\n",
        "- **Sentence**: Comentário realizado\n",
        "- **Sentiment**: Sentimento mais notório observado\n",
        "\n",
        "Também, são dados de 5842 e não há dados nulos nas duas colunas do dataset, conforme evidenciado abaixo."
      ]
    },
    {
      "cell_type": "code",
      "execution_count": null,
      "metadata": {
        "id": "f3bTqxLUKLah",
        "outputId": "791d7f1a-675f-4ca3-bfb6-773dc76c665f"
      },
      "outputs": [
        {
          "name": "stdout",
          "output_type": "stream",
          "text": [
            "Dimensão do dataset: (5842, 2) \n",
            "\n",
            "Total de valores nulos por coluna:\n",
            " Sentence     0\n",
            "Sentiment    0\n",
            "dtype: int64\n"
          ]
        }
      ],
      "source": [
        "print('Dimensão do dataset:', financial_raw.shape, '\\n')\n",
        "print('Total de valores nulos por coluna:\\n', financial_raw.isnull().sum())"
      ]
    },
    {
      "cell_type": "markdown",
      "metadata": {
        "id": "rBATkqqQKLah"
      },
      "source": [
        "Por fim, será apresentada na imagem a seguir a contagem dos sentimentos atrelados aos comentários."
      ]
    },
    {
      "cell_type": "code",
      "execution_count": null,
      "metadata": {
        "id": "xXlUq1HPKLah",
        "outputId": "45250a37-2f34-4978-abff-a36357bc9bef"
      },
      "outputs": [
        {
          "data": {
            "image/png": "[encoded data removed]",
            "text/plain": [
              "<Figure size 720x360 with 1 Axes>"
            ]
          },
          "metadata": {
            "needs_background": "light"
          },
          "output_type": "display_data"
        }
      ],
      "source": [
        "contagem = financial_raw['Sentiment'].value_counts()\n",
        "\n",
        "fig = plt.figure(figsize = (10,5))\n",
        "fig.suptitle('Contagem de sentimentos')\n",
        "ax = fig.add_subplot(111)\n",
        "plt.bar(contagem.index, contagem.values)\n",
        "plt.show()"
      ]
    },
    {
      "cell_type": "markdown",
      "metadata": {
        "id": "qMTBBj_3KLal"
      },
      "source": [
        "Também, a tabela a seguir apresenta a frequência relativa dos sentimentos."
      ]
    },
    {
      "cell_type": "code",
      "execution_count": null,
      "metadata": {
        "id": "2e9WQF4iKLal",
        "outputId": "89ca0740-ea41-419b-a19a-88086eacfd77"
      },
      "outputs": [
        {
          "name": "stdout",
          "output_type": "stream",
          "text": [
            "Frequência relativa (em %)\n",
            "\n",
            " neutral     53.6\n",
            "positive    31.7\n",
            "negative    14.7\n",
            "Name: Sentiment, dtype: float64\n"
          ]
        }
      ],
      "source": [
        "print('Frequência relativa (em %)\\n\\n',\n",
        "    financial_raw['Sentiment'].value_counts(normalize = True).mul(100).round(1))"
      ]
    },
    {
      "cell_type": "markdown",
      "metadata": {
        "id": "mIRLRh1qKLal"
      },
      "source": [
        "Conclui-se que a maioria dos sentimentos são neutros, presente em 53,6% dos comentários. Além disso, há mais que o dobro de observações positivas do que negativas.\n",
        "\n",
        "### Preparação dos dados\n",
        "\n",
        "O primeiro passo a ser realizado para a preparação dos dados será a separação dos atributos de comentários e de sentimento em variáveis específicas. É apresentada essa etapa abaixo."
      ]
    },
    {
      "cell_type": "code",
      "execution_count": null,
      "metadata": {
        "id": "nJmpN5sTKLam"
      },
      "outputs": [],
      "source": [
        "array_financ = financial_raw.values\n",
        "X = array_financ[:, 0]\n",
        "y = array_financ[:, 1]"
      ]
    },
    {
      "cell_type": "markdown",
      "metadata": {
        "id": "_qNJz_aKKLam"
      },
      "source": [
        "Agora, serão desabilitadas a identificação de associações e entidades para obtenção de melhor performance computacional. Também, será realizada a lemmatização e a remoção de stopwords e números para limpeza do texto. Como auxílio, será utilizada a função *cleaning*, disponível no módulo de Processamento de Linguagem Natural."
      ]
    },
    {
      "cell_type": "code",
      "execution_count": null,
      "metadata": {
        "id": "zIwrhFFqKLam",
        "outputId": "ad9723ff-3b57-4c5c-fa59-daf48ddf1e1a"
      },
      "outputs": [
        {
          "name": "stdout",
          "output_type": "stream",
          "text": [
            "Texto 1:  geosolution technology leverage benefon s gps solution provide location base search technology   community platform   location relevant multimedia content new powerful commercial model  \n",
            " Texto 2:   esi low     bk real possibility  \n",
            " Texto 3:   quarter    componenta s net sale double eurm eurm period year early   move zero pretax profit pretax loss eurm \n"
          ]
        }
      ],
      "source": [
        "raw_text = \"\\n\".join(X.tolist())\n",
        "\n",
        "#spacy.cli.download(\"en_core_web_sm\")\n",
        "nlp = spacy.load('en_core_web_sm', disable=['ner', 'parser'])\n",
        "\n",
        "def cleaning(doc):\n",
        "    txt = [token.lemma_ for token in doc if not token.is_stop]\n",
        "    if len(txt) > 2:\n",
        "        return ' '.join(txt)\n",
        "\n",
        "new_str = re.sub(r'[^\\w\\s]', '', raw_text).lower()\n",
        "new_str = re.sub(r'[^A-Za-z\\W]+', '', new_str)\n",
        "doc = nlp(new_str)\n",
        "txt = cleaning(doc)\n",
        "txt = txt.split('\\n')\n",
        "\n",
        "print(\n",
        "    'Texto 1: ', txt[0], '\\n',\n",
        "    'Texto 2: ', txt[1], '\\n',\n",
        "    'Texto 3: ', txt[2])"
      ]
    },
    {
      "cell_type": "markdown",
      "metadata": {
        "id": "lcAw7F2KKLam"
      },
      "source": [
        "Agora, os textos limpos e o sentimento associado serão visualizados em forma de data frame para a posterior análise. Também, serão feitas outras duas operações.\n",
        "\n",
        "Primeiramente, serão removidos os espaços em branco excessivos, e também serão removidos os espaços em branco do início e final do texto. Em segundo lugar, será criado uma classificação numérica para a variável de sentimento, onde esta assume 1 em caso de sentimento negativo, 0 em caso de sentimento neutro e 2 em caso de sentimento positivo.  "
      ]
    },
    {
      "cell_type": "code",
      "execution_count": null,
      "metadata": {
        "id": "_lrAG_jxKLam",
        "outputId": "dcb9da63-37bc-4bd4-c713-1d926d8ddcaf"
      },
      "outputs": [
        {
          "name": "stdout",
          "output_type": "stream",
          "text": [
            "Formato: (5786, 2)\n"
          ]
        },
        {
          "data": {
            "text/html": [
              "<div>\n",
              "<style scoped>\n",
              "    .dataframe tbody tr th:only-of-type {\n",
              "        vertical-align: middle;\n",
              "    }\n",
              "\n",
              "    .dataframe tbody tr th {\n",
              "        vertical-align: top;\n",
              "    }\n",
              "\n",
              "    .dataframe thead th {\n",
              "        text-align: right;\n",
              "    }\n",
              "</style>\n",
              "<table border=\"1\" class=\"dataframe\">\n",
              "  <thead>\n",
              "    <tr style=\"text-align: right;\">\n",
              "      <th></th>\n",
              "      <th>texto</th>\n",
              "      <th>sentimento</th>\n",
              "    </tr>\n",
              "  </thead>\n",
              "  <tbody>\n",
              "    <tr>\n",
              "      <th>0</th>\n",
              "      <td>geosolution technology leverage benefon s gps ...</td>\n",
              "      <td>2</td>\n",
              "    </tr>\n",
              "    <tr>\n",
              "      <th>1</th>\n",
              "      <td>esi low bk real possibility</td>\n",
              "      <td>0</td>\n",
              "    </tr>\n",
              "    <tr>\n",
              "      <th>2</th>\n",
              "      <td>quarter componenta s net sale double eurm eurm...</td>\n",
              "      <td>2</td>\n",
              "    </tr>\n",
              "    <tr>\n",
              "      <th>3</th>\n",
              "      <td>accord finnishrussian chamber commerce major c...</td>\n",
              "      <td>1</td>\n",
              "    </tr>\n",
              "    <tr>\n",
              "      <th>4</th>\n",
              "      <td>swedish buyout firm sell remain percent stake ...</td>\n",
              "      <td>1</td>\n",
              "    </tr>\n",
              "  </tbody>\n",
              "</table>\n",
              "</div>"
            ],
            "text/plain": [
              "                                               texto  sentimento\n",
              "0  geosolution technology leverage benefon s gps ...           2\n",
              "1                        esi low bk real possibility           0\n",
              "2  quarter componenta s net sale double eurm eurm...           2\n",
              "3  accord finnishrussian chamber commerce major c...           1\n",
              "4  swedish buyout firm sell remain percent stake ...           1"
            ]
          },
          "metadata": {},
          "output_type": "display_data"
        }
      ],
      "source": [
        "data_dict = {'texto': txt, 'sentimento': y}\n",
        "df_clean = pd.DataFrame(data_dict)\n",
        "df_clean = df_clean.dropna().drop_duplicates()\n",
        "\n",
        "df_clean = df_clean.assign(\n",
        "    texto = lambda dataframe: dataframe['texto'].map(lambda texto: re.sub(' +', ' ', texto).strip())\n",
        ")\n",
        "\n",
        "le = LabelEncoder()\n",
        "df_clean['sentimento'] = le.fit_transform(df_clean['sentimento'])\n",
        "\n",
        "print('Formato:', df_clean.shape)\n",
        "display(df_clean.head(n = 5))"
      ]
    },
    {
      "cell_type": "markdown",
      "metadata": {
        "id": "Ij8HFSEnKLam"
      },
      "source": [
        "### Separação em base de treino e base de teste\n",
        "\n",
        "A separação da base de treino e de teste será conduzida de forma estratificada, uma vez que foi possível concluir na análise descritiva que a proporção de comentários de cada sentimento é diferente.\n",
        "\n",
        "Serão utilizados 30% dos dados para teste e 70% para treino. Além disso, será conduzida a validação cruzada estratificada de 10 vezes. A validação cruzada estratificada é necessária pelo mesmo motivo apresentado acima."
      ]
    },
    {
      "cell_type": "code",
      "execution_count": null,
      "metadata": {
        "id": "SRTATs3NKLam",
        "outputId": "85b002d9-e942-4ca2-fc84-f7b6b77d3e89"
      },
      "outputs": [
        {
          "name": "stdout",
          "output_type": "stream",
          "text": [
            "Treino: (4050,) \n",
            "Teste: (1736,)\n"
          ]
        }
      ],
      "source": [
        "test_size2 = 0.30\n",
        "seed2 = 43\n",
        "np.random.seed(seed2)\n",
        "\n",
        "array2 = df_clean.values\n",
        "X_feeling = array2[:, 0]\n",
        "y_feeling = array2[:, 1]\n",
        "y_feeling = y_feeling.astype('int')\n",
        "\n",
        "X_feeling_train, X_feeling_test, y_feeling_train, y_feeling_test = train_test_split(\n",
        "    X_feeling, y_feeling, test_size = test_size2, random_state = seed2, stratify = y_feeling)\n",
        "\n",
        "num_particoes = 10\n",
        "kfold = StratifiedKFold(n_splits = num_particoes, shuffle = True, random_state = seed2)\n",
        "\n",
        "print('Treino:', X_feeling_train.shape, '\\nTeste:', X_feeling_test.shape)"
      ]
    },
    {
      "cell_type": "markdown",
      "metadata": {
        "id": "onCAQs8-KLan"
      },
      "source": [
        "Conclui-se que são 4628 comentários para treino e 1158 para teste, respeitando os 70% e 30% de treino e teste definidos na etapa anterior, respectivamente.\n",
        "\n",
        "### Transformações de dados\n",
        "\n",
        "Como as operações realizadas até o momento produziram textos, torna-se necessária uma conversão de texto para número para que os modelos de *machine learning* e/ou *deep learning* possam ser utilizados.\n",
        "\n",
        "Para isso, será feita a operação de conversão para *Bag of words (BOW)*, com o auxílio da função *CountVectorizer*."
      ]
    },
    {
      "cell_type": "code",
      "execution_count": null,
      "metadata": {
        "id": "IS03F87MKLan",
        "outputId": "6bef4edc-afd2-48aa-8266-4535a80be839"
      },
      "outputs": [
        {
          "name": "stdout",
          "output_type": "stream",
          "text": [
            "Dimensão de treino: (4050, 7398) \n",
            "\n",
            "[[0 0 0 ... 0 0 0]\n",
            " [0 0 0 ... 0 0 0]\n",
            " [0 0 0 ... 0 0 0]\n",
            " ...\n",
            " [0 0 0 ... 0 0 0]\n",
            " [0 0 0 ... 0 0 0]\n",
            " [0 0 0 ... 0 0 0]]\n"
          ]
        }
      ],
      "source": [
        "operation = CountVectorizer()\n",
        "\n",
        "X_feeling_train_bow = operation.fit_transform(X_feeling_train).toarray()\n",
        "X_feeling_test_bow = operation.transform(X_feeling_test).toarray()\n",
        "\n",
        "print('Dimensão de treino:', X_feeling_train_bow.shape, '\\n')\n",
        "print(X_feeling_train_bow)"
      ]
    },
    {
      "cell_type": "markdown",
      "metadata": {
        "id": "jic5XiYhKLan"
      },
      "source": [
        "Pelo resultado apresentado e por se tratar de uma análise de comentários, é possível supor que a bag of words formada seja esparsa, pois 7967 atributos que compõe cada comentário realizado.\n",
        "\n",
        "### Feature selection\n",
        "\n",
        "Pelo significado prático da BOW, não será utilizado *feature selection* neste problema.\n",
        "\n"
      ]
    },
    {
      "cell_type": "markdown",
      "metadata": {
        "id": "UiBcbHVqKLan"
      },
      "source": [
        "### Modelagem e treinamento\n",
        "\n",
        "#### Algoritmos utilizados\n",
        "\n",
        "Por questões de performance computacional, serão utilizados apenas dois algoritmos de classificação para comparação: O *KNN* e o *DecisionTreeClassifier*. Além disso, não será utilizada a normalização e padronização.\n",
        "\n",
        "As etapas e os pipelines encontram-se abaixo."
      ]
    },
    {
      "cell_type": "code",
      "execution_count": null,
      "metadata": {
        "id": "TgJB79KGKLan",
        "outputId": "1ab5b9a4-46f2-42d6-f955-115425f660cb"
      },
      "outputs": [
        {
          "name": "stdout",
          "output_type": "stream",
          "text": [
            "KNN-orig: 0.584 (0.010)\n",
            "CART-orig: 0.627 (0.029)\n"
          ]
        },
        {
          "data": {
            "image/png": "[encoded data removed]",
            "text/plain": [
              "<Figure size 1080x432 with 1 Axes>"
            ]
          },
          "metadata": {
            "needs_background": "light"
          },
          "output_type": "display_data"
        }
      ],
      "source": [
        "np.random.seed(seed2)\n",
        "\n",
        "pipelines_feeling = []\n",
        "results_feeling = []\n",
        "names_feeling = []\n",
        "scoring = 'accuracy'\n",
        "\n",
        "knn = ('KNN', KNeighborsClassifier())\n",
        "cart = ('CART', DecisionTreeClassifier())\n",
        "\n",
        "pipelines_feeling.append(('KNN-orig', Pipeline([knn])))\n",
        "pipelines_feeling.append(('CART-orig', Pipeline([cart])))\n",
        "\n",
        "for name, model in pipelines_feeling:\n",
        "    cv_results2 = cross_val_score(model, X_feeling_train_bow, y_feeling_train, cv = kfold, scoring = scoring)\n",
        "    results_feeling.append(cv_results2)\n",
        "    names_feeling.append(name)\n",
        "    msg = \"%s: %.3f (%.3f)\" % (name, cv_results2.mean(), cv_results2.std()) # formatando para 3 casas decimais\n",
        "    print(msg)\n",
        "\n",
        "# Boxplot de comparação dos modelos\n",
        "fig = plt.figure(figsize=(15,6))\n",
        "fig.suptitle('Comparação dos Modelos - Dataset original')\n",
        "ax = fig.add_subplot(111)\n",
        "plt.boxplot(results_feeling)\n",
        "ax.set_xticklabels(names_feeling, rotation=90)\n",
        "plt.show()"
      ]
    },
    {
      "cell_type": "markdown",
      "metadata": {
        "id": "g8wUUFrzKLan"
      },
      "source": [
        "Percebe-se que o modelo de *DecisionTreeClassifier* performou melhor que o KNN, obtendo uma acurácia média de 62,7%. Sendo assim, esse modelo é preferível em relação ao KNN considerando esta métrica.\n",
        "\n",
        "### Otimização de hiperparâmetros\n",
        "\n",
        "Como não foi feita restrição sob os parâmetros, torna-se necessário verificar se a escolhe destes é ótima, que será analisada a seguir.\n",
        "\n",
        "Para isso, serão variados os parâmetros de número de vizinhos e métrica de distância do KNN. Também, a profundidade máxima do DecisionTreeClassifier, que será fixada em 2."
      ]
    },
    {
      "cell_type": "code",
      "execution_count": null,
      "metadata": {
        "id": "Dl7fbVKGKLan",
        "outputId": "bd6545f3-499e-415f-f86c-1532b926fb58"
      },
      "outputs": [
        {
          "name": "stdout",
          "output_type": "stream",
          "text": [
            "KNN-orig - Melhor: 0.585 usando {'KNN__metric': 'manhattan', 'KNN__n_neighbors': 7}\n",
            "CART-orig - Melhor: 0.627 usando {'CART__max_depth': None}\n"
          ]
        }
      ],
      "source": [
        "################################\n",
        "########### KNN ################\n",
        "################################\n",
        "\n",
        "np.random.seed(seed2)\n",
        "\n",
        "pipelines_feeling2 = []\n",
        "results_feeling2 = []\n",
        "names_feeling2 = []\n",
        "scoring = 'accuracy'\n",
        "\n",
        "knn = ('KNN', KNeighborsClassifier())\n",
        "\n",
        "pipelines_feeling2.append(('KNN-orig', Pipeline([knn])))\n",
        "\n",
        "param_grid3 = {\n",
        "    'KNN__n_neighbors': [7, 9, 11, 13, 15],\n",
        "    'KNN__metric': [\"euclidean\", \"manhattan\"],\n",
        "}\n",
        "\n",
        "for name, model in pipelines_feeling2:\n",
        "    grid = GridSearchCV(estimator = model, param_grid = param_grid3, scoring = scoring, cv = kfold)\n",
        "    grid.fit(X_feeling_train_bow, y_feeling_train)\n",
        "    print(\"%s - Melhor: %0.3f usando %s\" % (name, grid.best_score_, grid.best_params_))\n",
        "\n",
        "###################################\n",
        "############ CART #################\n",
        "###################################\n",
        "\n",
        "np.random.seed(seed2)\n",
        "\n",
        "pipelines_feeling2 = []\n",
        "results_feeling2 = []\n",
        "names_feeling2 = []\n",
        "scoring = 'accuracy'\n",
        "\n",
        "cart = ('CART', DecisionTreeClassifier())\n",
        "\n",
        "pipelines_feeling2.append(('CART-orig', Pipeline([cart])))\n",
        "\n",
        "param_grid3 = {\n",
        "    'CART__max_depth': [None, 2],\n",
        "}\n",
        "\n",
        "for name, model in pipelines_feeling2:\n",
        "    grid = GridSearchCV(estimator = model, param_grid = param_grid3, scoring = scoring, cv = kfold)\n",
        "    grid.fit(X_feeling_train_bow, y_feeling_train)\n",
        "    print(\"%s - Melhor: %0.3f usando %s\" % (name, grid.best_score_, grid.best_params_))"
      ]
    },
    {
      "cell_type": "markdown",
      "metadata": {
        "id": "6s7e2DvJKLao"
      },
      "source": [
        "Conclui-se que o método KNN apresentou melhor performance sob a métrica do Manhattan e 7 vizinhos mais próximos. Porém, o incremento na acurácia do KNN foi de 0.01. Também, o método CART foi melhor sobre a profundidade padrão (*None*), e por isso a acurácia foi a mesma do ajuste da etapa anterior."
      ]
    },
    {
      "cell_type": "markdown",
      "metadata": {
        "id": "iXA4jDM3KLao"
      },
      "source": [
        "#### Modelos ensemble\n",
        "\n",
        "Também por questão de performance computacional, apenas dois modelos ensemble de classificação serão avaliados: *RandomForest* (RF) e *GradientBoosting* (GB). Também, não será feita a padronização ou normalização, e o número de árvores para o GB e o RF será de apenas 20, também por questão de performance."
      ]
    },
    {
      "cell_type": "code",
      "execution_count": null,
      "metadata": {
        "id": "rFG1Iie3KLao",
        "outputId": "2dfb8659-28dd-4df0-9d63-1eebb2d0f181"
      },
      "outputs": [
        {
          "name": "stdout",
          "output_type": "stream",
          "text": [
            "GB-orig: 0.620 (0.012)\n",
            "RF-orig: 0.655 (0.030)\n"
          ]
        },
        {
          "data": {
            "image/png": "[encoded data removed]",
            "text/plain": [
              "<Figure size 1080x360 with 1 Axes>"
            ]
          },
          "metadata": {
            "needs_background": "light"
          },
          "output_type": "display_data"
        }
      ],
      "source": [
        "np.random.seed(seed2)\n",
        "\n",
        "pipeline_ensemble2 = []\n",
        "results_ensemble2 = []\n",
        "names_ensemble2 = []\n",
        "\n",
        "num_trees = 20\n",
        "\n",
        "gradient_boosting = ('GB', GradientBoostingClassifier(n_estimators = num_trees))\n",
        "random_forest = ('RF', RandomForestClassifier(n_estimators = num_trees))\n",
        "\n",
        "pipeline_ensemble2.append(('GB-orig', Pipeline([gradient_boosting])))\n",
        "pipeline_ensemble2.append(('RF-orig', Pipeline([random_forest])))\n",
        "\n",
        "for name, model in pipeline_ensemble2:\n",
        "    cv_results = cross_val_score(model, X_feeling_train_bow, y_feeling_train, cv = kfold, scoring = scoring)\n",
        "    results_ensemble2.append(cv_results)\n",
        "    names_ensemble2.append(name)\n",
        "    msg = \"%s: %.3f (%.3f)\" % (name, cv_results.mean(), cv_results.std()) # formatando para 3 casas decimais\n",
        "    print(msg)\n",
        "\n",
        "# Boxplot de comparação dos modelos\n",
        "fig = plt.figure(figsize=(15,5))\n",
        "fig.suptitle('Comparação da acurácia dos Modelos')\n",
        "ax = fig.add_subplot(111)\n",
        "plt.boxplot(results_ensemble2)\n",
        "ax.set_xticklabels(names_ensemble2, rotation = 90)\n",
        "plt.show()"
      ]
    },
    {
      "cell_type": "markdown",
      "metadata": {
        "id": "CS2nlWcXKLao"
      },
      "source": [
        "Percebe-se que, mesmo com apenas 20 árvores no GB e no RF, eles obtiveram boa estimativa. A acurácia do GB ficou levemente abaixo do CART com os dados originais, que era até então o modelo de melhor acurácia."
      ]
    },
    {
      "cell_type": "markdown",
      "metadata": {
        "id": "nG6215XGKLao"
      },
      "source": [
        "#### Avaliação de resultados\n",
        "\n",
        "Conclui-se das etapas anteriores que o modelo de melhor ajuste geral foi o RF, com acurácia acima dos demais modelos. Porém, será considerado também o segundo melhor modelo ajustado (*DecisionTreeClassifier*), pois obteve acurácia próxima do RF.\n",
        "\n",
        "Sendo assim, estes serão os modelos avaliados na base de teste."
      ]
    },
    {
      "cell_type": "code",
      "execution_count": null,
      "metadata": {
        "id": "oFVFINstKLao",
        "outputId": "c1d72244-c4e9-47d9-8f4e-3259434a55bb"
      },
      "outputs": [
        {
          "name": "stdout",
          "output_type": "stream",
          "text": [
            "Acurácia geral RF: 0.618\n",
            "\n",
            "              precision    recall  f1-score   support\n",
            "\n",
            "           0       0.24      0.20      0.22       257\n",
            "           1       0.65      0.78      0.71       928\n",
            "           2       0.73      0.54      0.62       551\n",
            "\n",
            "    accuracy                           0.62      1736\n",
            "   macro avg       0.54      0.51      0.52      1736\n",
            "weighted avg       0.61      0.62      0.61      1736\n",
            "\n",
            "Acurácia geral KNN: 0.591\n",
            "\n",
            "              precision    recall  f1-score   support\n",
            "\n",
            "           0       0.22      0.28      0.24       257\n",
            "           1       0.67      0.65      0.66       928\n",
            "           2       0.68      0.64      0.66       551\n",
            "\n",
            "    accuracy                           0.59      1736\n",
            "   macro avg       0.52      0.52      0.52      1736\n",
            "weighted avg       0.61      0.59      0.60      1736\n",
            "\n"
          ]
        }
      ],
      "source": [
        "from sklearn.metrics import accuracy_score, classification_report\n",
        "\n",
        "## RANDOM FOREST\n",
        "modelo_rf = RandomForestClassifier(n_estimators = 20)\n",
        "modelo_rf.fit(X_feeling_train_bow, y_feeling_train)\n",
        "pred_feeling_rf = modelo_rf.predict(X_feeling_test_bow)\n",
        "\n",
        "print('Acurácia geral RF: %.3f\\n' % (accuracy_score(y_feeling_test, pred_feeling_rf)))\n",
        "print(classification_report(y_feeling_test, pred_feeling_rf))\n",
        "\n",
        "## DECISION TREE\n",
        "modelo_dt = DecisionTreeClassifier()\n",
        "modelo_dt.fit(X_feeling_train_bow, y_feeling_train)\n",
        "pred_feeling_dt = modelo_dt.predict(X_feeling_test_bow)\n",
        "\n",
        "print('Acurácia geral KNN: %.3f\\n' % (accuracy_score(y_feeling_test, pred_feeling_dt)))\n",
        "print(classification_report(y_feeling_test, pred_feeling_dt))"
      ]
    },
    {
      "cell_type": "markdown",
      "metadata": {
        "id": "vddoD3qmKLao"
      },
      "source": [
        "Percebe-se que a acurácia do modelo final na base de teste foi próxima da acurácia na base de treino para ambos os modelos. Além disso, seguimos com a conclusão de que o RF foi o modelo de melhor performance geral, tanto na base de treino como na base de teste. Portanto, será o modelo final a ser escolhido sob a métrica da acurácia.\n",
        "\n",
        "### Conclusão\n",
        "\n",
        "A análise de sentimentos é uma área de difícil predição, uma vez que as palavras contêm significados diferentes em contextos diferentes. Porém, foi possível observar como o processamento de linguagem natural é utilizado para esta área do conhecimento.\n",
        "\n",
        "Após limpeza e transformações de dados, ressalta-se que os textos obtiveram uma boa acurácia geral. Não houve overfitting, pois obteve boa acurácia na base de teste. Além disso, não houve underfitting, pois obteve boa acurácia na base de treino. Porém, tem-se a criticar alguns outros fatores.\n",
        "\n",
        "Primeiramente, os modelos ficaram limitados computacionalmente por exigir um alto desempenho. Também, percebe-se que o recall do modelo final foi relativamente baixo, sendo de apenas 0.22.\n",
        "\n",
        "Convém, portanto, a realização de outras análises neste mesmo dataset, considerando possivelmente alguns pontos de limitação que foram levantados."
      ]
    }
  ],
  "metadata": {
    "colab": {
      "provenance": [],
      "include_colab_link": true
    },
    "kernelspec": {
      "display_name": "Python 3 (ipykernel)",
      "language": "python",
      "name": "python3"
    },
    "language_info": {
      "codemirror_mode": {
        "name": "ipython",
        "version": 3
      },
      "file_extension": ".py",
      "mimetype": "text/x-python",
      "name": "python",
      "nbconvert_exporter": "python",
      "pygments_lexer": "ipython3",
      "version": "3.9.12"
    }
  },
  "nbformat": 4,
  "nbformat_minor": 0
}