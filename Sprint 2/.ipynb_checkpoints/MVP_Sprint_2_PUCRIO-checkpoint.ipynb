{
 "cells": [
  {
   "cell_type": "markdown",
   "metadata": {
    "colab_type": "text",
    "id": "view-in-github"
   },
   "source": [
    "<a href=\"https://colab.research.google.com/github/marcus-vsantos/PUCRIO/blob/main/Sprint_2.ipynb\" target=\"_parent\"><img src=\"https://colab.research.google.com/assets/colab-badge.svg\" alt=\"Open In Colab\"/></a>"
   ]
  },
  {
   "cell_type": "markdown",
   "metadata": {},
   "source": [
    "# MVP - Sprint 2 - Machine Learning e Analytics\n",
    "\n",
    "---\n",
    "\n",
    "## Problema de regressão - Performance universitária\n",
    "---\n",
    "\n",
    "### Definição do problema\n",
    "\n",
    "O primeiro problema que será abordado ao longo deste trabalho se trata da performance de estudantes universitários. O principal objetivo é o estabelecimento do relacionamento entre a performance de estudantes universitários e de atributos dos estudantes julgados importantes para a performance.\n",
    "\n",
    "Os dados são de 10.000 estudantes, onde cada linha representa um estudante e são apresentadas os atributos e a variável de interesse, que é um índice numérico de performance que varia de 10 a 100. O índice de performance é uma espécie de nota global de aproveitamento e, segundo o autor, foi arredondado para o número inteiro mais próximo.\n",
    "\n",
    "Também cabe ressaltar que, ainda de acordo com o autor, os dados são sintéticos e não revelam um real comportamento observado. Trata-se apenas de uma ilustração da realidade para aplicação de métodos de *machine learning*. Por fim, este dataset foi extraído do site *Kaggle*.\n",
    "\n",
    "A seguir, a carga dos dados será feita:"
   ]
  },
  {
   "cell_type": "code",
   "execution_count": 163,
   "metadata": {
    "id": "nFBx36p6pbCS"
   },
   "outputs": [],
   "source": [
    "import warnings\n",
    "warnings.filterwarnings(\"ignore\")\n",
    "\n",
    "import pandas as pd\n",
    "import numpy as np"
   ]
  },
  {
   "cell_type": "code",
   "execution_count": 164,
   "metadata": {},
   "outputs": [
    {
     "data": {
      "text/html": [
       "<div>\n",
       "<style scoped>\n",
       "    .dataframe tbody tr th:only-of-type {\n",
       "        vertical-align: middle;\n",
       "    }\n",
       "\n",
       "    .dataframe tbody tr th {\n",
       "        vertical-align: top;\n",
       "    }\n",
       "\n",
       "    .dataframe thead th {\n",
       "        text-align: right;\n",
       "    }\n",
       "</style>\n",
       "<table border=\"1\" class=\"dataframe\">\n",
       "  <thead>\n",
       "    <tr style=\"text-align: right;\">\n",
       "      <th></th>\n",
       "      <th>Hours Studied</th>\n",
       "      <th>Previous Scores</th>\n",
       "      <th>Extracurricular Activities</th>\n",
       "      <th>Sleep Hours</th>\n",
       "      <th>Sample Question Papers Practiced</th>\n",
       "      <th>Performance Index</th>\n",
       "    </tr>\n",
       "  </thead>\n",
       "  <tbody>\n",
       "    <tr>\n",
       "      <th>0</th>\n",
       "      <td>7</td>\n",
       "      <td>99</td>\n",
       "      <td>Yes</td>\n",
       "      <td>9</td>\n",
       "      <td>1</td>\n",
       "      <td>91.0</td>\n",
       "    </tr>\n",
       "    <tr>\n",
       "      <th>1</th>\n",
       "      <td>4</td>\n",
       "      <td>82</td>\n",
       "      <td>No</td>\n",
       "      <td>4</td>\n",
       "      <td>2</td>\n",
       "      <td>65.0</td>\n",
       "    </tr>\n",
       "    <tr>\n",
       "      <th>2</th>\n",
       "      <td>8</td>\n",
       "      <td>51</td>\n",
       "      <td>Yes</td>\n",
       "      <td>7</td>\n",
       "      <td>2</td>\n",
       "      <td>45.0</td>\n",
       "    </tr>\n",
       "    <tr>\n",
       "      <th>3</th>\n",
       "      <td>5</td>\n",
       "      <td>52</td>\n",
       "      <td>Yes</td>\n",
       "      <td>5</td>\n",
       "      <td>2</td>\n",
       "      <td>36.0</td>\n",
       "    </tr>\n",
       "    <tr>\n",
       "      <th>4</th>\n",
       "      <td>7</td>\n",
       "      <td>75</td>\n",
       "      <td>No</td>\n",
       "      <td>8</td>\n",
       "      <td>5</td>\n",
       "      <td>66.0</td>\n",
       "    </tr>\n",
       "  </tbody>\n",
       "</table>\n",
       "</div>"
      ],
      "text/plain": [
       "   Hours Studied  Previous Scores Extracurricular Activities  Sleep Hours  \\\n",
       "0              7               99                        Yes            9   \n",
       "1              4               82                         No            4   \n",
       "2              8               51                        Yes            7   \n",
       "3              5               52                        Yes            5   \n",
       "4              7               75                         No            8   \n",
       "\n",
       "   Sample Question Papers Practiced  Performance Index  \n",
       "0                                 1               91.0  \n",
       "1                                 2               65.0  \n",
       "2                                 2               45.0  \n",
       "3                                 2               36.0  \n",
       "4                                 5               66.0  "
      ]
     },
     "metadata": {},
     "output_type": "display_data"
    }
   ],
   "source": [
    "url = 'https://raw.githubusercontent.com/marcus-vsantos/PUCRIO/main/Sprint%202/Student_Performance.csv'\n",
    "\n",
    "raw_students = pd.read_csv(url)\n",
    "\n",
    "display(raw_students.head(n = 5))"
   ]
  },
  {
   "cell_type": "markdown",
   "metadata": {},
   "source": [
    "Como mostrado a seguir, de fato os dados são de 10.000 estudantes e são dispostos 6 atributos, sendo um o atributo target, que é o índice de performance."
   ]
  },
  {
   "cell_type": "code",
   "execution_count": 165,
   "metadata": {},
   "outputs": [
    {
     "name": "stdout",
     "output_type": "stream",
     "text": [
      "(10000, 6)\n"
     ]
    }
   ],
   "source": [
    "print(raw_students.shape)"
   ]
  },
  {
   "cell_type": "markdown",
   "metadata": {},
   "source": [
    "Os seis atributos do dataset são apresentados brevemente abaixo:\n",
    "    \n",
    "- **Hours Studied:** O número total de horas de estudo de cada estudante\n",
    "- **Previous Scores:** O score do estudante em provas anteriores.\n",
    "- **Extracurricular Activities:** Indica se o estudante participou de atividades extracurriculares ou não (Yes/No).\n",
    "- **Sleep Hours:** A média diária das horas de sono do estudante.\n",
    "- **Sample Question Papers Practiced:** O número de exames praticados na preparação do estudante.\n",
    "- **Performance Index:** O número inteiro do indíce de performance de cada estudante, variando de 10 a 100.\n",
    "    \n",
    "Como premissas para o problema, tenho que o número de horas estudadas, o score anterior e o número de questões praticadas seriam as mais importantes para a predição da performance do estudante, pois estes estão relacionados com o empenho e a boa preparação do estudante.\n",
    "\n",
    "Pelo método *info*, percebe-se que não há valores nulos em nenhuma coluna do dataset"
   ]
  },
  {
   "cell_type": "code",
   "execution_count": 166,
   "metadata": {},
   "outputs": [
    {
     "name": "stdout",
     "output_type": "stream",
     "text": [
      "<class 'pandas.core.frame.DataFrame'>\n",
      "RangeIndex: 10000 entries, 0 to 9999\n",
      "Data columns (total 6 columns):\n",
      " #   Column                            Non-Null Count  Dtype  \n",
      "---  ------                            --------------  -----  \n",
      " 0   Hours Studied                     10000 non-null  int64  \n",
      " 1   Previous Scores                   10000 non-null  int64  \n",
      " 2   Extracurricular Activities        10000 non-null  object \n",
      " 3   Sleep Hours                       10000 non-null  int64  \n",
      " 4   Sample Question Papers Practiced  10000 non-null  int64  \n",
      " 5   Performance Index                 10000 non-null  float64\n",
      "dtypes: float64(1), int64(4), object(1)\n",
      "memory usage: 468.9+ KB\n",
      "None\n"
     ]
    }
   ],
   "source": [
    "print(raw_students.info())"
   ]
  },
  {
   "cell_type": "markdown",
   "metadata": {},
   "source": [
    "### Preparação dos dados\n",
    "\n",
    "Inicialmente, as ferramentas auxiliares pertinentes para esta etapa serão carregadas."
   ]
  },
  {
   "cell_type": "code",
   "execution_count": 167,
   "metadata": {},
   "outputs": [],
   "source": [
    "from sklearn.preprocessing import OneHotEncoder\n",
    "import matplotlib.pyplot as plt\n",
    "from sklearn.pipeline import Pipeline\n",
    "\n",
    "from sklearn.preprocessing import StandardScaler\n",
    "from sklearn.preprocessing import MinMaxScaler\n",
    "from sklearn.model_selection import train_test_split\n",
    "from sklearn.model_selection import KFold\n",
    "from sklearn.model_selection import cross_val_score\n",
    "\n",
    "from sklearn.feature_selection import SelectKBest\n",
    "from sklearn.feature_selection import f_regression"
   ]
  },
  {
   "cell_type": "markdown",
   "metadata": {},
   "source": [
    "Também, ressalto que, conforme apresentado na seção de \"Definição do problema\", não há valores faltantes no conjunto de dados, não necessitando o preenchimento destes.\n",
    "\n",
    "#### Transformação da variável qualitativa\n",
    "\n",
    "A primeira etapa de preparação dos dados será a criação de uma variável de atividades extracurriculares quantitativa, pois no dataset esse atributo está como qualitativo. Essa é a única variável qualitativa do dataset.\n",
    "\n",
    "Essa variável é binária, indicando se houve ou não partipação em atividades extracurriculares, conforme apresentado a seguir."
   ]
  },
  {
   "cell_type": "code",
   "execution_count": 168,
   "metadata": {},
   "outputs": [
    {
     "name": "stdout",
     "output_type": "stream",
     "text": [
      "No     5052\n",
      "Yes    4948\n",
      "Name: Extracurricular Activities, dtype: int64\n"
     ]
    }
   ],
   "source": [
    "print(raw_students[\"Extracurricular Activities\"].value_counts())"
   ]
  },
  {
   "cell_type": "markdown",
   "metadata": {},
   "source": [
    "Farei uma transformação dummy que codifica o \"Yes\" como 1 e o \"No\" como 0. Para facilitar a compreensão, essa nova coluna ocupará a mesma posição da coluna original."
   ]
  },
  {
   "cell_type": "code",
   "execution_count": 169,
   "metadata": {},
   "outputs": [
    {
     "data": {
      "text/html": [
       "<div>\n",
       "<style scoped>\n",
       "    .dataframe tbody tr th:only-of-type {\n",
       "        vertical-align: middle;\n",
       "    }\n",
       "\n",
       "    .dataframe tbody tr th {\n",
       "        vertical-align: top;\n",
       "    }\n",
       "\n",
       "    .dataframe thead th {\n",
       "        text-align: right;\n",
       "    }\n",
       "</style>\n",
       "<table border=\"1\" class=\"dataframe\">\n",
       "  <thead>\n",
       "    <tr style=\"text-align: right;\">\n",
       "      <th></th>\n",
       "      <th>Hours Studied</th>\n",
       "      <th>Previous Scores</th>\n",
       "      <th>Extracurricular Activities_Yes</th>\n",
       "      <th>Sleep Hours</th>\n",
       "      <th>Sample Question Papers Practiced</th>\n",
       "      <th>Performance Index</th>\n",
       "    </tr>\n",
       "  </thead>\n",
       "  <tbody>\n",
       "    <tr>\n",
       "      <th>0</th>\n",
       "      <td>7</td>\n",
       "      <td>99</td>\n",
       "      <td>1</td>\n",
       "      <td>9</td>\n",
       "      <td>1</td>\n",
       "      <td>91.0</td>\n",
       "    </tr>\n",
       "    <tr>\n",
       "      <th>1</th>\n",
       "      <td>4</td>\n",
       "      <td>82</td>\n",
       "      <td>0</td>\n",
       "      <td>4</td>\n",
       "      <td>2</td>\n",
       "      <td>65.0</td>\n",
       "    </tr>\n",
       "    <tr>\n",
       "      <th>2</th>\n",
       "      <td>8</td>\n",
       "      <td>51</td>\n",
       "      <td>1</td>\n",
       "      <td>7</td>\n",
       "      <td>2</td>\n",
       "      <td>45.0</td>\n",
       "    </tr>\n",
       "    <tr>\n",
       "      <th>3</th>\n",
       "      <td>5</td>\n",
       "      <td>52</td>\n",
       "      <td>1</td>\n",
       "      <td>5</td>\n",
       "      <td>2</td>\n",
       "      <td>36.0</td>\n",
       "    </tr>\n",
       "    <tr>\n",
       "      <th>4</th>\n",
       "      <td>7</td>\n",
       "      <td>75</td>\n",
       "      <td>0</td>\n",
       "      <td>8</td>\n",
       "      <td>5</td>\n",
       "      <td>66.0</td>\n",
       "    </tr>\n",
       "  </tbody>\n",
       "</table>\n",
       "</div>"
      ],
      "text/plain": [
       "   Hours Studied  Previous Scores  Extracurricular Activities_Yes  \\\n",
       "0              7               99                               1   \n",
       "1              4               82                               0   \n",
       "2              8               51                               1   \n",
       "3              5               52                               1   \n",
       "4              7               75                               0   \n",
       "\n",
       "   Sleep Hours  Sample Question Papers Practiced  Performance Index  \n",
       "0            9                                 1               91.0  \n",
       "1            4                                 2               65.0  \n",
       "2            7                                 2               45.0  \n",
       "3            5                                 2               36.0  \n",
       "4            8                                 5               66.0  "
      ]
     },
     "metadata": {},
     "output_type": "display_data"
    }
   ],
   "source": [
    "students = pd.get_dummies(raw_students, columns = [\"Extracurricular Activities\"],  drop_first = True)\n",
    "students = students[['Hours Studied', 'Previous Scores', 'Extracurricular Activities_Yes','Sleep Hours',\n",
    "       'Sample Question Papers Practiced', 'Performance Index']]\n",
    "\n",
    "display(students.head(n = 5))"
   ]
  },
  {
   "cell_type": "markdown",
   "metadata": {},
   "source": [
    "#### Dados de treino e teste e validação cruzada\n",
    "\n",
    "Será conduzida a etapa de separação entre os dados de treino e de teste, como indicado abaixo. Os dados de treino serão 70% do dataset, enquanto os de teste serão 30% da base, correspondendo a 7000 e 3000 instâncias, respectivamente.\n",
    "\n",
    "Também, será utilizada a validação cruzada para avaliação do modelo sob diferentes cenários, avaliando a performance geral. Para a validação cruzada, serão utilizadas 10 partições. "
   ]
  },
  {
   "cell_type": "code",
   "execution_count": 170,
   "metadata": {},
   "outputs": [
    {
     "name": "stdout",
     "output_type": "stream",
     "text": [
      "Treino: (7000, 5) \n",
      "Teste: (3000, 5)\n"
     ]
    }
   ],
   "source": [
    "test_size = 0.30\n",
    "seed = 100\n",
    "np.random.seed(seed)\n",
    "\n",
    "array = students.values\n",
    "X_students = array[:,0:5]\n",
    "y_students = array[:,5]\n",
    "X_students_train, X_students_test, y_students_train, y_students_test = train_test_split(\n",
    "    X_students, y_students, test_size = test_size, random_state = seed)\n",
    "\n",
    "num_particoes = 10\n",
    "kfold = KFold(n_splits = num_particoes, shuffle = True, random_state = seed)\n",
    "\n",
    "print('Treino:', X_students_train.shape, '\\nTeste:', X_students_test.shape)"
   ]
  },
  {
   "cell_type": "markdown",
   "metadata": {},
   "source": [
    "Dentre as principais transformações que serão aplicadas, estão a normalização e a padronização. Essas transformações serão utilizadas para evitar, sobretudo, a influência de valores discrepantes.\n",
    "\n",
    "#### Feature selection\n",
    "\n",
    "Para a simplificação do problema, é apresentado a seguir a *feature selection* dos dados de treino.\n",
    "\n",
    "Será utilizado o método *SelectKBest*, onde serão escolhidos os três melhores atributos para a performance do estudante. Como se trata de um problema de regressão, o método *SelectKBest* utilizará como função de score a *f_regression*."
   ]
  },
  {
   "cell_type": "code",
   "execution_count": 171,
   "metadata": {},
   "outputs": [
    {
     "name": "stdout",
     "output_type": "stream",
     "text": [
      "\n",
      "Scores dos Atributos: [1.152e+03 3.612e+04 7.768e+00 1.221e+01 4.879e+00]\n",
      "\n",
      "Atributos Selecionados: ['Hours Studied' 'Previous Scores' 'Sleep Hours']\n"
     ]
    }
   ],
   "source": [
    "np.random.seed(seed)\n",
    "\n",
    "k_best = 3\n",
    "\n",
    "select_reg =  SelectKBest(k = k_best, score_func = f_regression)\n",
    "fit_students = select_reg.fit(X_students_train, y_students_train)               \n",
    "features_students = fit_students.transform(X_students_train)\n",
    "\n",
    "np.set_printoptions(precision = 3)\n",
    "print(\"\\nScores dos Atributos:\", fit_students.scores_)\n",
    "print(\"\\nAtributos Selecionados:\", select_reg.get_feature_names_out(input_features = students.columns[0:5]))"
   ]
  },
  {
   "cell_type": "markdown",
   "metadata": {},
   "source": [
    "Pelo método KBest, conclui-se que as principais variáveis para a performance do estudante são as horas de estudo, o score anterior e o número de horas. É importante ressaltar que apenas o número de exames praticados não se mostrou relevante dentre as três características em que havia a intuição.\n",
    "\n",
    "### Modelagem e treinamento\n",
    "\n",
    "As funções apropriadas serão carregadas para a posterior utilização nessa etapa."
   ]
  },
  {
   "cell_type": "code",
   "execution_count": 172,
   "metadata": {},
   "outputs": [],
   "source": [
    "from sklearn.model_selection import GridSearchCV\n",
    "from sklearn.metrics import mean_squared_error, r2_score\n",
    "from sklearn.linear_model import LinearRegression \n",
    "from sklearn.linear_model import Ridge \n",
    "from sklearn.linear_model import Lasso \n",
    "from sklearn.neighbors import KNeighborsRegressor \n",
    "from sklearn.tree import DecisionTreeRegressor\n",
    "from sklearn.svm import SVR"
   ]
  },
  {
   "cell_type": "markdown",
   "metadata": {},
   "source": [
    "#### Algortimos utilizados\n",
    "\n",
    "Como se trata de um problema de regressão, serão considerados os seguintes modelos:\n",
    "\n",
    "- Regressão linear\n",
    "- Regressão linear Ridge\n",
    "- Regressão linear Lasso\n",
    "- Árvore de Regressão\n",
    "- KNN\n",
    "- SVM\n",
    "\n",
    "Para cada modelo, será utilizado os argumentos *defaults*, isto é, não haverá ajuste inicial de hiperparâmetros. Futuramente, serão analisados os melhores hiperparâmetros. Também, será discutida a utilização de modelos ensemble."
   ]
  },
  {
   "cell_type": "code",
   "execution_count": 173,
   "metadata": {},
   "outputs": [
    {
     "name": "stdout",
     "output_type": "stream",
     "text": [
      "LR-orig: MSE 4.109 (0.178) - RMSE 2.027\n",
      "Ridge-orig: MSE 4.109 (0.178) - RMSE 2.027\n",
      "Lasso-orig: MSE 4.826 (0.277) - RMSE 2.197\n",
      "KNN-orig: MSE 6.231 (0.361) - RMSE 2.496\n",
      "Tree-orig: MSE 9.230 (0.500) - RMSE 3.038\n",
      "SVM-orig: MSE 5.897 (0.328) - RMSE 2.428\n",
      "LR-padr: MSE 4.109 (0.178) - RMSE 2.027\n",
      "Ridge-padr: MSE 4.109 (0.178) - RMSE 2.027\n",
      "Lasso-padr: MSE 7.185 (0.422) - RMSE 2.680\n",
      "KNN-padr: MSE 9.618 (0.400) - RMSE 3.101\n",
      "Tree-padr: MSE 9.125 (0.433) - RMSE 3.021\n",
      "SVM-padr: MSE 5.788 (0.433) - RMSE 2.406\n",
      "LR-norm: MSE 4.109 (0.178) - RMSE 2.027\n",
      "Ridge-norm: MSE 4.110 (0.180) - RMSE 2.027\n",
      "Lasso-norm: MSE 26.535 (1.044) - RMSE 5.151\n",
      "KNN-norm: MSE 10.297 (0.460) - RMSE 3.209\n",
      "Tree-norm: MSE 9.144 (0.445) - RMSE 3.024\n",
      "SVM-norm: MSE 6.458 (0.441) - RMSE 2.541\n"
     ]
    },
    {
     "data": {
      "image/png": "[encoded data removed]",
      "text/plain": [
       "<Figure size 1080x360 with 1 Axes>"
      ]
     },
     "metadata": {
      "needs_background": "light"
     },
     "output_type": "display_data"
    }
   ],
   "source": [
    "np.random.seed(seed)\n",
    "\n",
    "pipelines_students = []\n",
    "results_students = []\n",
    "names_students = []\n",
    "scoring = 'neg_mean_squared_error'\n",
    "\n",
    "linear = ('LR', LinearRegression())\n",
    "ridge = ('Ridge', Ridge())\n",
    "lasso = ('Lasso', Lasso())\n",
    "knn = ('KNN', KNeighborsRegressor())\n",
    "tree = ('CART', DecisionTreeRegressor())\n",
    "svm = ('SVM', SVR())\n",
    "\n",
    "standard_scaler = ('StandardScaler', StandardScaler())\n",
    "min_max_scaler = ('MinMaxScaler', MinMaxScaler())\n",
    "\n",
    "pipelines_students.append(('LR-orig', Pipeline([linear])))\n",
    "pipelines_students.append(('Ridge-orig', Pipeline([ridge])))\n",
    "pipelines_students.append(('Lasso-orig', Pipeline([lasso])))\n",
    "pipelines_students.append(('KNN-orig', Pipeline([knn])))\n",
    "pipelines_students.append(('Tree-orig', Pipeline([tree])))\n",
    "pipelines_students.append(('SVM-orig', Pipeline([svm])))\n",
    "\n",
    "pipelines_students.append(('LR-padr', Pipeline([standard_scaler, linear])))\n",
    "pipelines_students.append(('Ridge-padr', Pipeline([standard_scaler, ridge])))\n",
    "pipelines_students.append(('Lasso-padr', Pipeline([standard_scaler, lasso])))\n",
    "pipelines_students.append(('KNN-padr', Pipeline([standard_scaler, knn])))\n",
    "pipelines_students.append(('Tree-padr', Pipeline([standard_scaler, tree])))\n",
    "pipelines_students.append(('SVM-padr', Pipeline([standard_scaler, svm])))\n",
    "\n",
    "pipelines_students.append(('LR-norm', Pipeline([min_max_scaler, linear])))\n",
    "pipelines_students.append(('Ridge-norm', Pipeline([min_max_scaler, ridge])))\n",
    "pipelines_students.append(('Lasso-norm', Pipeline([min_max_scaler, lasso])))\n",
    "pipelines_students.append(('KNN-norm', Pipeline([min_max_scaler, knn])))\n",
    "pipelines_students.append(('Tree-norm', Pipeline([min_max_scaler, tree])))\n",
    "pipelines_students.append(('SVM-norm', Pipeline([min_max_scaler, svm])))\n",
    "\n",
    "for name, model in pipelines_students:\n",
    "    cv_results = cross_val_score(model, X_students_train, y_students_train, cv = kfold, scoring = scoring)\n",
    "    results_students.append(cv_results)\n",
    "    names_students.append(name)\n",
    "    msg = \"%s: MSE %0.3f (%0.3f) - RMSE %0.3f\" % (name, abs(cv_results.mean()), cv_results.std(), np.sqrt(abs(cv_results.mean())))\n",
    "    print(msg)\n",
    "\n",
    "fig = plt.figure(figsize=(15,5))\n",
    "fig.suptitle('Comparação do MSE dos Modelos')\n",
    "ax = fig.add_subplot(111)\n",
    "plt.boxplot(results_students)\n",
    "ax.set_xticklabels(names_students, rotation = 90)\n",
    "plt.show()"
   ]
  },
  {
   "cell_type": "markdown",
   "metadata": {},
   "source": [
    "Do resultado apresentado, percebe-se que o modelo de regressão linear foi o de melhor ajuste sob a métrica do MSE, uma vez que obteve os menores valores de erro. \n",
    "\n",
    "Além disso, a regressão linear tradicional e a com regularização Ridge obtiveram valores próximos, mesmo ao considerar a terceira casa decimal. Ainda, a normalização ou padronização não apresentaram efeitos práticos no ajuste, uma vez que o MSE se manteve o mesmo do que os dados originais mesmo considerando a terceira casa decimal.\n",
    "\n",
    "Sendo assim, essa primeira análise permite concluir o modelo de regressão linear com os dados originais como o de melhor performance.\n",
    "\n",
    "### Otimização de hiperparâmetros\n",
    "\n",
    "Os modelos acima ajustados utilizam os argumentos *default* de cada um dos modelos. Porém, sabe-se que a escolha de hiperparâmetros de modelos de *machine learning* influencia diretamente em seus resultados. Desta forma, torna-se necessário a escolha dos melhores parâmetros para o problema sob questão.\n",
    "\n",
    "Serão considerados dois modelos: *KNN* e *LinearRegression*. Em um primeiro momento, serão percorridos os parâmetros de número de vizinhos, o cálculo da distância e o algoritmo, conforme evidenciado abaixo."
   ]
  },
  {
   "cell_type": "code",
   "execution_count": 174,
   "metadata": {},
   "outputs": [
    {
     "name": "stdout",
     "output_type": "stream",
     "text": [
      "knn-orig - Melhor: -5.552 usando {'KNN__algorithm': 'brute', 'KNN__metric': 'euclidean', 'KNN__n_neighbors': 15}\n",
      "knn-padr - Melhor: -8.599 usando {'KNN__algorithm': 'brute', 'KNN__metric': 'euclidean', 'KNN__n_neighbors': 17}\n",
      "knn-norm - Melhor: -9.645 usando {'KNN__algorithm': 'brute', 'KNN__metric': 'euclidean', 'KNN__n_neighbors': 21}\n"
     ]
    }
   ],
   "source": [
    "###########################################\n",
    "############# KNN #########################\n",
    "###########################################\n",
    "\n",
    "np.random.seed(seed)\n",
    "\n",
    "pipelines_knn = []\n",
    "\n",
    "knn = ('KNN', KNeighborsRegressor())\n",
    "standard_scaler = ('StandardScaler', StandardScaler())\n",
    "min_max_scaler = ('MinMaxScaler', MinMaxScaler())\n",
    "\n",
    "pipelines_knn.append(('knn-orig', Pipeline(steps=[knn])))\n",
    "pipelines_knn.append(('knn-padr', Pipeline(steps=[standard_scaler, knn])))\n",
    "pipelines_knn.append(('knn-norm', Pipeline(steps=[min_max_scaler, knn])))\n",
    "\n",
    "param_grid = {\n",
    "    'KNN__n_neighbors': [1,3,5,7,9,11,13,15,17,19,21],\n",
    "    'KNN__metric': [\"euclidean\", \"manhattan\", \"minkowski\"],\n",
    "    'KNN__algorithm': ['auto', 'ball_tree', 'kd_tree', 'brute']\n",
    "}\n",
    "\n",
    "for name, model in pipelines_knn:\n",
    "    grid = GridSearchCV(estimator = model, param_grid = param_grid, scoring = scoring, cv = kfold)\n",
    "    grid.fit(X_students_train, y_students_train)\n",
    "    print(\"%s - Melhor: %0.3f usando %s\" % (name, grid.best_score_, grid.best_params_))"
   ]
  },
  {
   "cell_type": "markdown",
   "metadata": {},
   "source": [
    "Sob esta ótica, o método KNN com score \"brute\", distância euclideana e com 15 vizinhos foi o de melhor performance considerando a lista de parâmetros. Porém, ressalta-se que este ajuste não gerou melhor performance do que a etapa anterior sob a métrica do MSE.\n",
    "\n",
    "Agora, serão testados os melhores parâmetros para o modelo de regressão linear. Neste caso, será testado apenas se o intercepto do modelo de regressão é necessário ou não no ajuste."
   ]
  },
  {
   "cell_type": "code",
   "execution_count": 175,
   "metadata": {},
   "outputs": [
    {
     "name": "stdout",
     "output_type": "stream",
     "text": [
      "lr-orig - Melhor: -4.109 usando {'LR__fit_intercept': True}\n",
      "lr-padr - Melhor: -4.109 usando {'LR__fit_intercept': True}\n",
      "lr-norm - Melhor: -4.109 usando {'LR__fit_intercept': True}\n"
     ]
    }
   ],
   "source": [
    "#########################################\n",
    "########### Regressão linear ############\n",
    "#########################################\n",
    "\n",
    "np.random.seed(seed)    \n",
    "\n",
    "pipelines_lr = []\n",
    "\n",
    "# Definindo os componentes do pipeline\n",
    "lr = ('LR', LinearRegression())\n",
    "standard_scaler = ('StandardScaler', StandardScaler())\n",
    "min_max_scaler = ('MinMaxScaler', MinMaxScaler())\n",
    "\n",
    "pipelines_lr.append(('lr-orig', Pipeline(steps=[lr])))\n",
    "pipelines_lr.append(('lr-padr', Pipeline(steps=[standard_scaler, lr])))\n",
    "pipelines_lr.append(('lr-norm', Pipeline(steps=[min_max_scaler, lr])))\n",
    "\n",
    "param_grid = {\n",
    "    'LR__fit_intercept': [True, False]\n",
    "}\n",
    "\n",
    "for name, model in pipelines_lr:\n",
    "    grid = GridSearchCV(estimator = model, param_grid = param_grid, scoring = scoring, cv = kfold)\n",
    "    grid.fit(X_students_train, y_students_train)\n",
    "    print(\"%s - Melhor: %0.3f usando %s\" % (name, grid.best_score_, grid.best_params_))"
   ]
  },
  {
   "cell_type": "markdown",
   "metadata": {},
   "source": [
    "Sob esta ótica, o método *LinearRegression* resultou em estimativas parecidas com os modelos da etapa de *Algoritmos utilizados*, com MSE próximo dos demais. Além disso, a presença do intercepto é significativa para o modelo, pois em todos os sub-modelos, o de melhor performance apresentava o intercepto.\n",
    "\n",
    "### Modelos ensemble\n",
    "\n",
    "Entre as técnicas mais avançadas de modelos, serão utilizados alguns comitês de modelos. Esse cenário será avaliado para ver se as predições podem ser melhoradas."
   ]
  },
  {
   "cell_type": "code",
   "execution_count": 176,
   "metadata": {},
   "outputs": [
    {
     "name": "stdout",
     "output_type": "stream",
     "text": [
      "Bag-orig: nan (nan)\n",
      "Vot-orig: -4.469 (0.200)\n",
      "GB-orig: -4.374 (0.199)\n",
      "Ada-orig: -7.457 (0.578)\n",
      "RF-orig: -5.328 (0.252)\n",
      "ET-orig: -6.090 (0.292)\n",
      "Bag-padr: nan (nan)\n",
      "Vot-padr: -4.768 (0.260)\n",
      "GB-padr: -4.374 (0.199)\n",
      "Ada-padr: -7.434 (0.610)\n",
      "RF-padr: -5.317 (0.252)\n",
      "ET-padr: -6.101 (0.279)\n",
      "Bag-norm: nan (nan)\n",
      "Vot-norm: -4.897 (0.261)\n",
      "GB-norm: -4.374 (0.199)\n",
      "Ada-norm: -7.475 (0.567)\n",
      "RF-norm: -5.313 (0.240)\n",
      "ET-norm: -6.086 (0.278)\n"
     ]
    },
    {
     "data": {
      "image/png": "[encoded data removed]",
      "text/plain": [
       "<Figure size 1080x360 with 1 Axes>"
      ]
     },
     "metadata": {
      "needs_background": "light"
     },
     "output_type": "display_data"
    }
   ],
   "source": [
    "np.random.seed(seed) \n",
    "\n",
    "pipeline_ensemble = []\n",
    "results_ensemble = []\n",
    "names_ensemble = []\n",
    "\n",
    "standard_scaler = ('StandardScaler', StandardScaler())\n",
    "min_max_scaler = ('MinMaxScaler', MinMaxScaler())\n",
    "\n",
    "from sklearn.ensemble import BaggingRegressor\n",
    "from sklearn.ensemble import VotingRegressor\n",
    "from sklearn.ensemble import GradientBoostingRegressor\n",
    "from sklearn.ensemble import AdaBoostRegressor\n",
    "from sklearn.ensemble import RandomForestRegressor\n",
    "from sklearn.ensemble import ExtraTreesRegressor\n",
    "\n",
    "max_f = 4\n",
    "num_trees = 200\n",
    "\n",
    "bases = []\n",
    "bases.append(('tree', KNeighborsRegressor()))\n",
    "bases.append(('lr', LinearRegression()))\n",
    "bases.append(('svr', SVR()))\n",
    "bases.append(('gb_base', GradientBoostingRegressor(n_estimators = num_trees)))\n",
    "\n",
    "bagging = ('Bag', BaggingRegressor(base_estimator = bases, n_estimators = num_trees))\n",
    "voting = ('Voting', VotingRegressor(bases))\n",
    "gradient_boosting = ('GB', GradientBoostingRegressor(n_estimators = num_trees))\n",
    "adaboost = ('Ada', AdaBoostRegressor(n_estimators = num_trees))\n",
    "random_forest = ('RF', RandomForestRegressor(n_estimators = num_trees, max_features = max_f))\n",
    "extra_trees = ('ET', ExtraTreesRegressor(n_estimators = num_trees, max_features = max_f))\n",
    "\n",
    "standard_scaler = ('StandardScaler', StandardScaler())\n",
    "min_max_scaler = ('MinMaxScaler', MinMaxScaler())\n",
    "\n",
    "pipeline_ensemble.append(('Bag-orig', Pipeline([bagging])))\n",
    "pipeline_ensemble.append(('Vot-orig', Pipeline([voting])))\n",
    "pipeline_ensemble.append(('GB-orig', Pipeline([gradient_boosting])))\n",
    "pipeline_ensemble.append(('Ada-orig', Pipeline([adaboost])))\n",
    "pipeline_ensemble.append(('RF-orig', Pipeline([random_forest])))\n",
    "pipeline_ensemble.append(('ET-orig', Pipeline([extra_trees])))\n",
    "\n",
    "pipeline_ensemble.append(('Bag-padr', Pipeline([standard_scaler, bagging])))\n",
    "pipeline_ensemble.append(('Vot-padr', Pipeline([standard_scaler, voting])))\n",
    "pipeline_ensemble.append(('GB-padr', Pipeline([standard_scaler, gradient_boosting])))\n",
    "pipeline_ensemble.append(('Ada-padr', Pipeline([standard_scaler, adaboost])))\n",
    "pipeline_ensemble.append(('RF-padr', Pipeline([standard_scaler, random_forest])))\n",
    "pipeline_ensemble.append(('ET-padr', Pipeline([standard_scaler, extra_trees])))\n",
    "\n",
    "pipeline_ensemble.append(('Bag-norm', Pipeline([min_max_scaler, bagging])))\n",
    "pipeline_ensemble.append(('Vot-norm', Pipeline([min_max_scaler, voting])))\n",
    "pipeline_ensemble.append(('GB-norm', Pipeline([min_max_scaler, gradient_boosting])))\n",
    "pipeline_ensemble.append(('Ada-norm', Pipeline([min_max_scaler, adaboost])))\n",
    "pipeline_ensemble.append(('RF-norm', Pipeline([min_max_scaler, random_forest])))\n",
    "pipeline_ensemble.append(('ET-norm', Pipeline([min_max_scaler, extra_trees])))\n",
    "\n",
    "for name, model in pipeline_ensemble:\n",
    "    cv_results = cross_val_score(model, X_students_train, y_students_train, cv = kfold, scoring = scoring)\n",
    "    results_ensemble.append(cv_results)\n",
    "    names_ensemble.append(name)\n",
    "    msg = \"%s: %.3f (%.3f)\" % (name, cv_results.mean(), cv_results.std()) # formatando para 3 casas decimais\n",
    "    print(msg)\n",
    "    \n",
    "# Boxplot de comparação dos modelos\n",
    "fig = plt.figure(figsize=(15,5))\n",
    "fig.suptitle('Comparação do MSE dos Modelos')\n",
    "ax = fig.add_subplot(111)\n",
    "plt.boxplot(results_ensemble)\n",
    "ax.set_xticklabels(names_ensemble, rotation = 90)\n",
    "plt.show()"
   ]
  },
  {
   "cell_type": "markdown",
   "metadata": {},
   "source": [
    "Portanto, percebe-se que os modelos de *GradientBoosting* apresentaram os melhores resultados nos três cenários (originais, padronizados e normalizados). Além disso, não houve diferença significativa no ajuste ao padronizar ou normalizar as variáveis, uma vez que a estimativa do MSE foi igual nesses três modelos considerando até a terceira casa decimal.\n",
    "\n",
    "Caso fosse necessário que um desses modelos *ensemble* fosse utilizado, é possível selecionar o modelo com os dados originais, facilitando a interpretabilidade do modelo final.\n",
    "\n",
    "### Avaliação dos resultados\n",
    "\n",
    "Conforme apresentado nas etapas anteriores, os modelos de melhor performance foram *LinearRegression*, *LinearRegression Ridge* e *LinearRegression Lasso*. Também, a transformação das variáveis não se revelou significativa, seja a normalização ou a padronização.\n",
    "\n",
    "Dada a semelhança entre os ajustes dos três modelos acima, será verificada a performance destes na base de teste, conforme apresentado a seguir, com as suas respectivas métricas de desempenho, sendo apresentados o MSE e o coeficiente de determinação R2."
   ]
  },
  {
   "cell_type": "code",
   "execution_count": 177,
   "metadata": {},
   "outputs": [
    {
     "name": "stdout",
     "output_type": "stream",
     "text": [
      "LinearRegression: MSE: 4.2772 - R2: 0.9885\n",
      "Ridge: MSE: 4.2772 - R2: 0.9885\n",
      "Lasso: MSE: 5.0598 - R2: 0.9864\n"
     ]
    }
   ],
   "source": [
    "np.random.seed(seed)  \n",
    "\n",
    "modelo_lr = LinearRegression()\n",
    "modelo_lr.fit(X_students_train, y_students_train)\n",
    "pred1 = modelo_lr.predict(X_students_test)\n",
    "\n",
    "modelo_ridge = Ridge()\n",
    "modelo_ridge.fit(X_students_train, y_students_train)\n",
    "pred2 = modelo_ridge.predict(X_students_test)\n",
    "\n",
    "modelo_lasso = Lasso()\n",
    "modelo_lasso.fit(X_students_train, y_students_train)\n",
    "pred3 = modelo_lasso.predict(X_students_test)\n",
    "\n",
    "print(\"LinearRegression: MSE: %.4f - R2: %.4f\" \n",
    "      % (mean_squared_error(y_students_test, pred1), r2_score(y_students_test, pred1)))\n",
    "\n",
    "print(\"Ridge: MSE: %.4f - R2: %.4f\" \n",
    "      % (mean_squared_error(y_students_test, pred2), r2_score(y_students_test, pred2)))\n",
    "\n",
    "print(\"Lasso: MSE: %.4f - R2: %.4f\" \n",
    "      % (mean_squared_error(y_students_test, pred3), r2_score(y_students_test, pred3)))"
   ]
  },
  {
   "cell_type": "markdown",
   "metadata": {},
   "source": [
    "Conforme apresentado acima, percebe-se que os modelo de *LinearRegression* e *LinearRegression Ridge* apresentaram os melhores desempenhos, tanto sob a ótica do MSE quanto da ótica do coeficiente de determinação R2. Além disso, ambos os modelos apresentaram métricas muito próximas, mesmo quando considerada a quarta casa decimal. O R2 esteve próximo de 1, indicando boa performance do modelo.\n",
    "\n",
    "O modelo considerado como final será o *LinearRegression*. Para este modelo, a figura a seguir apresenta o diagrama de dispersão da variável predita e observada na base de treino."
   ]
  },
  {
   "cell_type": "code",
   "execution_count": 178,
   "metadata": {},
   "outputs": [
    {
     "data": {
      "image/png": "[encoded data removed]",
      "text/plain": [
       "<Figure size 432x288 with 1 Axes>"
      ]
     },
     "metadata": {
      "needs_background": "light"
     },
     "output_type": "display_data"
    }
   ],
   "source": [
    "plt.suptitle('Base de treino: valores observados e preditos')\n",
    "plt.plot(y_students_test, pred1, color='b')\n",
    "plt.show()"
   ]
  },
  {
   "cell_type": "markdown",
   "metadata": {},
   "source": [
    "O diagrama de dispersão acima mostra que os valores observados e preditos foram próximos, pela sua familiaridade com a reta identidade **y = x**. \n",
    "\n",
    "As métricas acima mencionadas corroboram o bom ajuste do modelo *LinearRegression*, de modo que não foi identificado overfitting e houve boa aderência na base de teste. \n",
    "\n",
    "### Conclusão\n",
    "\n",
    "Com base no exposto, é possível perceber que o modelo de *LinearRegression* foi o de melhor performance, mesmo sob o ponto de vista de diferentes métricas apropriadas para a avaliação da performance de um problema supervisionado de regressão.\n",
    "\n",
    "Para este problema, ressalta-se que não foi necessária a transformação de variáveis, pois os modelos apresentaram resultados similares com e sem transformação.\n",
    "\n",
    "Por brevidade e por não se tratar de uma exaustiva análise, a otimização de hiperparâmetros considerou apenas dois modelos de regressão, a saber: *KNN* e *LinearRegression*. Sendo assim, tornou-se uma limitação dos resultados apresentados. Porém, o modelo final apresentou uma excelente performance, com quase 99% da variabilidade da variável target sendo explicada pelo modelo de regressão linear.\n",
    "\n",
    "Sendo assim, conclui-se que a variavél target de Índice de performance do aluno é explicada por uma combinação linear das covariáveis *Hours Studied*, *Previous Scores*, *Extracurricular Activities*, *Sleep Hours* e *Sample Questions paper practiced*, e que portanto estas são importantes para a predição de performances.\n",
    "\n",
    "---\n",
    "## Deep Learning\n",
    "---"
   ]
  },
  {
   "cell_type": "markdown",
   "metadata": {},
   "source": []
  },
  {
   "cell_type": "code",
   "execution_count": null,
   "metadata": {},
   "outputs": [],
   "source": []
  }
 ],
 "metadata": {
  "colab": {
   "authorship_tag": "ABX9TyOYil6gWU6Tp7X77n93nUyT",
   "include_colab_link": true,
   "provenance": []
  },
  "kernelspec": {
   "display_name": "Python 3 (ipykernel)",
   "language": "python",
   "name": "python3"
  },
  "language_info": {
   "codemirror_mode": {
    "name": "ipython",
    "version": 3
   },
   "file_extension": ".py",
   "mimetype": "text/x-python",
   "name": "python",
   "nbconvert_exporter": "python",
   "pygments_lexer": "ipython3",
   "version": "3.9.12"
  }
 },
 "nbformat": 4,
 "nbformat_minor": 1
}
